{
 "cells": [
  {
   "cell_type": "code",
   "execution_count": 2,
   "metadata": {
    "scrolled": true
   },
   "outputs": [],
   "source": [
    "import tensorflow as tf\n",
    "import numpy as np\n",
    "from bert_serving.server.graph import optimize_graph\n",
    "from bert_serving.server.helper import get_args_parser\n",
    "from tensorflow.python.estimator.estimator import Estimator\n",
    "from tensorflow.python.estimator.run_config import RunConfig\n",
    "from tensorflow.python.estimator.model_fn import EstimatorSpec\n",
    "from tensorflow.keras.utils import Progbar\n",
    "from bert_serving.server.bert.tokenization import FullTokenizer\n",
    "from bert_serving.server.bert.extract_features import convert_lst_to_features"
   ]
  },
  {
   "cell_type": "code",
   "execution_count": 3,
   "metadata": {},
   "outputs": [],
   "source": [
    "import logging\n",
    "log = logging.getLogger('tensorflow')\n",
    "log.setLevel(logging.INFO)\n",
    "log.handlers = []"
   ]
  },
  {
   "cell_type": "code",
   "execution_count": 4,
   "metadata": {},
   "outputs": [],
   "source": [
    "sesh = tf.InteractiveSession()"
   ]
  },
  {
   "cell_type": "code",
   "execution_count": 5,
   "metadata": {},
   "outputs": [],
   "source": [
    "MODEL_DIR = './bert/uncased_L-12_H-768_A-12/'\n",
    "GRAPH_DIR = './bert/graph/'\n",
    "GRAPH_OUT = 'extractor.pbtxt'\n",
    "\n",
    "POOL_STRAT = 'REDUCE_MEAN'\n",
    "POOL_LAYER = '-2'\n",
    "SEQ_LEN = '256'\n",
    "\n",
    "tf.gfile.MkDir(GRAPH_DIR)"
   ]
  },
  {
   "cell_type": "code",
   "execution_count": 6,
   "metadata": {},
   "outputs": [],
   "source": [
    "import os"
   ]
  },
  {
   "cell_type": "code",
   "execution_count": 7,
   "metadata": {},
   "outputs": [
    {
     "name": "stderr",
     "output_type": "stream",
     "text": [
      "From C:\\Users\\sutar\\Anaconda3\\lib\\site-packages\\bert_serving\\server\\helper.py:186: The name tf.logging.set_verbosity is deprecated. Please use tf.compat.v1.logging.set_verbosity instead.\n",
      "\n",
      "From C:\\Users\\sutar\\Anaconda3\\lib\\site-packages\\bert_serving\\server\\helper.py:186: The name tf.logging.ERROR is deprecated. Please use tf.compat.v1.logging.ERROR instead.\n",
      "\n"
     ]
    },
    {
     "name": "stdout",
     "output_type": "stream",
     "text": [
      "I:\u001b[36mGRAPHOPT\u001b[0m:model config: ./bert/uncased_L-12_H-768_A-12/bert_config.json\n",
      "I:\u001b[36mGRAPHOPT\u001b[0m:checkpoint: ./bert/uncased_L-12_H-768_A-12/bert_model.ckpt\n",
      "I:\u001b[36mGRAPHOPT\u001b[0m:build graph...\n",
      "I:\u001b[36mGRAPHOPT\u001b[0m:load parameters from checkpoint...\n",
      "I:\u001b[36mGRAPHOPT\u001b[0m:optimize...\n",
      "I:\u001b[36mGRAPHOPT\u001b[0m:freeze...\n",
      "I:\u001b[36mGRAPHOPT\u001b[0m:write graph to a tmp file: E:\\ML\\BE Project\\bert\\graph\\tmpyj5lb1b9\n",
      "\n",
      "Serialized graph to ./bert/graph/extractor.pbtxt\n",
      "Wall time: 11.7 s\n"
     ]
    }
   ],
   "source": [
    "%%time\n",
    "parser = get_args_parser()\n",
    "carg = parser.parse_args(args=['-model_dir', MODEL_DIR,\n",
    "                               '-graph_tmp_dir', GRAPH_DIR,\n",
    "                               '-max_seq_len', str(SEQ_LEN),\n",
    "                               '-pooling_layer', str(POOL_LAYER),\n",
    "                               '-pooling_strategy', POOL_STRAT])\n",
    "\n",
    "tmp_name, config = optimize_graph(carg)\n",
    "graph_fout = os.path.join(GRAPH_DIR, GRAPH_OUT)\n",
    "\n",
    "tf.gfile.Rename(\n",
    "    tmp_name,\n",
    "    graph_fout,\n",
    "    overwrite=True\n",
    ")\n",
    "print(\"\\nSerialized graph to {}\".format(graph_fout))"
   ]
  },
  {
   "cell_type": "code",
   "execution_count": 8,
   "metadata": {},
   "outputs": [],
   "source": [
    "GRAPH_PATH = \"./bert/graph/extractor.pbtxt\"\n",
    "VOCAB_PATH = \"./bert/uncased_L-12_H-768_A-12/vocab.txt\"\n",
    "SEQ_LEN = 256"
   ]
  },
  {
   "cell_type": "code",
   "execution_count": 9,
   "metadata": {},
   "outputs": [],
   "source": [
    "INPUT_NAMES = ['input_ids', 'input_mask', 'input_type_ids']\n",
    "bert_tokenizer = FullTokenizer(VOCAB_PATH)"
   ]
  },
  {
   "cell_type": "code",
   "execution_count": 10,
   "metadata": {},
   "outputs": [],
   "source": [
    "def build_feed_dict(texts):\n",
    "    \n",
    "    text_features = list(convert_lst_to_features(\n",
    "        texts, SEQ_LEN, SEQ_LEN, \n",
    "        bert_tokenizer, log, False, False))\n",
    "\n",
    "    target_shape = (len(texts), -1)\n",
    "\n",
    "    feed_dict = {}\n",
    "    for iname in INPUT_NAMES:\n",
    "        features_i = np.array([getattr(f, iname) for f in text_features])\n",
    "        features_i = features_i.reshape(target_shape).astype(\"int32\")\n",
    "        feed_dict[iname] = features_i\n",
    "\n",
    "    return feed_dict"
   ]
  },
  {
   "cell_type": "code",
   "execution_count": 11,
   "metadata": {},
   "outputs": [],
   "source": [
    "def build_input_fn(container):\n",
    "    \n",
    "    def gen():\n",
    "        while True:\n",
    "            try:\n",
    "                yield build_feed_dict(container.get())\n",
    "            except:\n",
    "                yield build_feed_dict(container.get())\n",
    "\n",
    "    def input_fn():\n",
    "        return tf.data.Dataset.from_generator(\n",
    "            gen,\n",
    "            output_types={iname: tf.int32 for iname in INPUT_NAMES},\n",
    "            output_shapes={iname: (None, None) for iname in INPUT_NAMES})\n",
    "    return input_fn"
   ]
  },
  {
   "cell_type": "code",
   "execution_count": 12,
   "metadata": {},
   "outputs": [],
   "source": [
    "class DataContainer:\n",
    "    def __init__(self):\n",
    "        self._texts = None\n",
    "  \n",
    "    def set(self, texts):\n",
    "        if type(texts) is str:\n",
    "              texts = [texts]\n",
    "        self._texts = texts\n",
    "    \n",
    "    def get(self):\n",
    "        return self._texts"
   ]
  },
  {
   "cell_type": "code",
   "execution_count": 13,
   "metadata": {},
   "outputs": [],
   "source": [
    "def model_fn(features, mode):\n",
    "    with tf.gfile.GFile(GRAPH_PATH, 'rb') as f:\n",
    "        graph_def = tf.GraphDef()\n",
    "        graph_def.ParseFromString(f.read())\n",
    "        \n",
    "    output = tf.import_graph_def(graph_def,\n",
    "                                 input_map={k + ':0': features[k] for k in INPUT_NAMES},\n",
    "                                 return_elements=['final_encodes:0'])\n",
    "\n",
    "    return EstimatorSpec(mode=mode, predictions={'output': output[0]})\n",
    "  \n",
    "estimator = Estimator(model_fn=model_fn)"
   ]
  },
  {
   "cell_type": "code",
   "execution_count": 14,
   "metadata": {},
   "outputs": [],
   "source": [
    "def batch(iterable, n=1):\n",
    "    l = len(iterable)\n",
    "    for ndx in range(0, l, n):\n",
    "        yield iterable[ndx:min(ndx + n, l)]\n",
    "\n",
    "def build_vectorizer(_estimator, _input_fn_builder, batch_size=128):\n",
    "    container = DataContainer()\n",
    "    predict_fn = _estimator.predict(_input_fn_builder(container), yield_single_examples=False)\n",
    "  \n",
    "    def vectorize(text, verbose=False):\n",
    "        x = []\n",
    "        bar = Progbar(len(text))\n",
    "        for text_batch in batch(text, batch_size):\n",
    "            container.set(text_batch)\n",
    "            x.append(next(predict_fn)['output'])\n",
    "            if verbose:\n",
    "                bar.add(len(text_batch))\n",
    "      \n",
    "        r = np.vstack(x)\n",
    "        return r\n",
    "  \n",
    "    return vectorize"
   ]
  },
  {
   "cell_type": "code",
   "execution_count": 15,
   "metadata": {},
   "outputs": [],
   "source": [
    "bert_vectorizer = build_vectorizer(estimator, build_input_fn)"
   ]
  },
  {
   "cell_type": "code",
   "execution_count": 16,
   "metadata": {},
   "outputs": [
    {
     "name": "stdout",
     "output_type": "stream",
     "text": [
      "Wall time: 46.8 s\n"
     ]
    },
    {
     "data": {
      "text/plain": [
       "(64, 768)"
      ]
     },
     "execution_count": 16,
     "metadata": {},
     "output_type": "execute_result"
    }
   ],
   "source": [
    "%%time\n",
    "bert_vectorizer(64*['sample text']).shape"
   ]
  },
  {
   "cell_type": "code",
   "execution_count": 17,
   "metadata": {},
   "outputs": [],
   "source": [
    "import pandas as pd"
   ]
  },
  {
   "cell_type": "code",
   "execution_count": 18,
   "metadata": {},
   "outputs": [],
   "source": [
    "df = pd.read_csv('./datasets/keywords.csv')"
   ]
  },
  {
   "cell_type": "code",
   "execution_count": 19,
   "metadata": {},
   "outputs": [
    {
     "data": {
      "text/html": [
       "<div>\n",
       "<style scoped>\n",
       "    .dataframe tbody tr th:only-of-type {\n",
       "        vertical-align: middle;\n",
       "    }\n",
       "\n",
       "    .dataframe tbody tr th {\n",
       "        vertical-align: top;\n",
       "    }\n",
       "\n",
       "    .dataframe thead th {\n",
       "        text-align: right;\n",
       "    }\n",
       "</style>\n",
       "<table border=\"1\" class=\"dataframe\">\n",
       "  <thead>\n",
       "    <tr style=\"text-align: right;\">\n",
       "      <th></th>\n",
       "      <th>Unnamed: 0</th>\n",
       "      <th>project</th>\n",
       "      <th>keyword</th>\n",
       "      <th>file</th>\n",
       "    </tr>\n",
       "  </thead>\n",
       "  <tbody>\n",
       "    <tr>\n",
       "      <th>0</th>\n",
       "      <td>0</td>\n",
       "      <td>integrated spice modeling/simulation of circui...</td>\n",
       "      <td>circuit element</td>\n",
       "      <td>./reports_doc/1.pdf</td>\n",
       "    </tr>\n",
       "    <tr>\n",
       "      <th>1</th>\n",
       "      <td>1</td>\n",
       "      <td>integrated spice modeling/simulation of circui...</td>\n",
       "      <td>circuit simulation</td>\n",
       "      <td>./reports_doc/1.pdf</td>\n",
       "    </tr>\n",
       "    <tr>\n",
       "      <th>2</th>\n",
       "      <td>2</td>\n",
       "      <td>integrated spice modeling/simulation of circui...</td>\n",
       "      <td>circuit spice</td>\n",
       "      <td>./reports_doc/1.pdf</td>\n",
       "    </tr>\n",
       "    <tr>\n",
       "      <th>3</th>\n",
       "      <td>3</td>\n",
       "      <td>integrated spice modeling/simulation of circui...</td>\n",
       "      <td>component library</td>\n",
       "      <td>./reports_doc/1.pdf</td>\n",
       "    </tr>\n",
       "    <tr>\n",
       "      <th>4</th>\n",
       "      <td>4</td>\n",
       "      <td>integrated spice modeling/simulation of circui...</td>\n",
       "      <td>current source</td>\n",
       "      <td>./reports_doc/1.pdf</td>\n",
       "    </tr>\n",
       "  </tbody>\n",
       "</table>\n",
       "</div>"
      ],
      "text/plain": [
       "   Unnamed: 0                                            project  \\\n",
       "0           0  integrated spice modeling/simulation of circui...   \n",
       "1           1  integrated spice modeling/simulation of circui...   \n",
       "2           2  integrated spice modeling/simulation of circui...   \n",
       "3           3  integrated spice modeling/simulation of circui...   \n",
       "4           4  integrated spice modeling/simulation of circui...   \n",
       "\n",
       "              keyword                 file  \n",
       "0     circuit element  ./reports_doc/1.pdf  \n",
       "1  circuit simulation  ./reports_doc/1.pdf  \n",
       "2       circuit spice  ./reports_doc/1.pdf  \n",
       "3   component library  ./reports_doc/1.pdf  \n",
       "4      current source  ./reports_doc/1.pdf  "
      ]
     },
     "execution_count": 19,
     "metadata": {},
     "output_type": "execute_result"
    }
   ],
   "source": [
    "df.head()"
   ]
  },
  {
   "cell_type": "code",
   "execution_count": 20,
   "metadata": {},
   "outputs": [],
   "source": [
    "df.drop('Unnamed: 0', axis=1, inplace=True)"
   ]
  },
  {
   "cell_type": "code",
   "execution_count": 21,
   "metadata": {},
   "outputs": [
    {
     "data": {
      "text/html": [
       "<div>\n",
       "<style scoped>\n",
       "    .dataframe tbody tr th:only-of-type {\n",
       "        vertical-align: middle;\n",
       "    }\n",
       "\n",
       "    .dataframe tbody tr th {\n",
       "        vertical-align: top;\n",
       "    }\n",
       "\n",
       "    .dataframe thead th {\n",
       "        text-align: right;\n",
       "    }\n",
       "</style>\n",
       "<table border=\"1\" class=\"dataframe\">\n",
       "  <thead>\n",
       "    <tr style=\"text-align: right;\">\n",
       "      <th></th>\n",
       "      <th>project</th>\n",
       "      <th>keyword</th>\n",
       "      <th>file</th>\n",
       "    </tr>\n",
       "  </thead>\n",
       "  <tbody>\n",
       "    <tr>\n",
       "      <th>0</th>\n",
       "      <td>integrated spice modeling/simulation of circui...</td>\n",
       "      <td>circuit element</td>\n",
       "      <td>./reports_doc/1.pdf</td>\n",
       "    </tr>\n",
       "    <tr>\n",
       "      <th>1</th>\n",
       "      <td>integrated spice modeling/simulation of circui...</td>\n",
       "      <td>circuit simulation</td>\n",
       "      <td>./reports_doc/1.pdf</td>\n",
       "    </tr>\n",
       "    <tr>\n",
       "      <th>2</th>\n",
       "      <td>integrated spice modeling/simulation of circui...</td>\n",
       "      <td>circuit spice</td>\n",
       "      <td>./reports_doc/1.pdf</td>\n",
       "    </tr>\n",
       "    <tr>\n",
       "      <th>3</th>\n",
       "      <td>integrated spice modeling/simulation of circui...</td>\n",
       "      <td>component library</td>\n",
       "      <td>./reports_doc/1.pdf</td>\n",
       "    </tr>\n",
       "    <tr>\n",
       "      <th>4</th>\n",
       "      <td>integrated spice modeling/simulation of circui...</td>\n",
       "      <td>current source</td>\n",
       "      <td>./reports_doc/1.pdf</td>\n",
       "    </tr>\n",
       "  </tbody>\n",
       "</table>\n",
       "</div>"
      ],
      "text/plain": [
       "                                             project             keyword  \\\n",
       "0  integrated spice modeling/simulation of circui...     circuit element   \n",
       "1  integrated spice modeling/simulation of circui...  circuit simulation   \n",
       "2  integrated spice modeling/simulation of circui...       circuit spice   \n",
       "3  integrated spice modeling/simulation of circui...   component library   \n",
       "4  integrated spice modeling/simulation of circui...      current source   \n",
       "\n",
       "                  file  \n",
       "0  ./reports_doc/1.pdf  \n",
       "1  ./reports_doc/1.pdf  \n",
       "2  ./reports_doc/1.pdf  \n",
       "3  ./reports_doc/1.pdf  \n",
       "4  ./reports_doc/1.pdf  "
      ]
     },
     "execution_count": 21,
     "metadata": {},
     "output_type": "execute_result"
    }
   ],
   "source": [
    "df.head()"
   ]
  },
  {
   "cell_type": "code",
   "execution_count": null,
   "metadata": {},
   "outputs": [],
   "source": [
    "%%time\n",
    "bert_feature_matrix = pd.DataFrame(bert_vectorizer(list(df['keyword'])))"
   ]
  },
  {
   "cell_type": "code",
   "execution_count": null,
   "metadata": {},
   "outputs": [],
   "source": []
  }
 ],
 "metadata": {
  "kernelspec": {
   "display_name": "Python 3",
   "language": "python",
   "name": "python3"
  },
  "language_info": {
   "codemirror_mode": {
    "name": "ipython",
    "version": 3
   },
   "file_extension": ".py",
   "mimetype": "text/x-python",
   "name": "python",
   "nbconvert_exporter": "python",
   "pygments_lexer": "ipython3",
   "version": "3.7.3"
  }
 },
 "nbformat": 4,
 "nbformat_minor": 2
}
