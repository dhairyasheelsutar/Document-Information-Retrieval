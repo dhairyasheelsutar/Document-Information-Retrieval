{
 "cells": [
  {
   "cell_type": "markdown",
   "metadata": {},
   "source": [
    "# Distributed_Information_Retrieval (Phase 6)"
   ]
  },
  {
   "cell_type": "markdown",
   "metadata": {},
   "source": [
    "#### Input:\n",
    "   Query by enduser.\n",
    "#### Output:\n",
    "   List of relevant documents.\n",
    "#### Algorithm:\n",
    "   a) Get cached dataframes and load models using joblib. <br>\n",
    "   b) Transform the input query by tfidfVectorizer.<br>\n",
    "   c) If tfidf returns all zeros then the query is outside of domain the return.<br>\n",
    "   d) Else transform using SVD and Doc2vec.<br>\n",
    "   e) Compute cosine_similarity of given query vector with doc2vec and SVD.<br>\n",
    "   f) Multiply the weights with cosine similarities to penalise lower weight results.<br>\n",
    "   g) Aggregate and sort the results to get Top 10 relevant files.<br>"
   ]
  },
  {
   "cell_type": "code",
   "execution_count": 1,
   "metadata": {},
   "outputs": [
    {
     "name": "stdout",
     "output_type": "stream",
     "text": [
      "Time: 0\n"
     ]
    }
   ],
   "source": [
    "from dask.distributed import get_client\n",
    "import joblib\n",
    "from gensim.models import Doc2Vec\n",
    "import numpy as np\n",
    "import pandas as pd\n",
    "import dask.dataframe as dd\n",
    "import dask.array as da\n",
    "from sklearn.metrics.pairwise import cosine_similarity\n",
    "import time\n",
    "import gc\n",
    "\n",
    "print(\"Time: 0\")\n",
    "start = time.time()"
   ]
  },
  {
   "cell_type": "code",
   "execution_count": 2,
   "metadata": {},
   "outputs": [],
   "source": [
    "client = get_client(address=\"tcp://127.0.0.1:37417\")"
   ]
  },
  {
   "cell_type": "code",
   "execution_count": 3,
   "metadata": {},
   "outputs": [],
   "source": [
    "kmeans = client.get_dataset(\"cluster\")"
   ]
  },
  {
   "cell_type": "code",
   "execution_count": 4,
   "metadata": {},
   "outputs": [],
   "source": [
    "svd_feature_matrix = client.get_dataset(\"svd_feature_matrix\")"
   ]
  },
  {
   "cell_type": "code",
   "execution_count": 5,
   "metadata": {},
   "outputs": [],
   "source": [
    "doc2vec_feature_matrix = client.get_dataset(\"doc2vec_feature_matrix\")"
   ]
  },
  {
   "cell_type": "code",
   "execution_count": 6,
   "metadata": {},
   "outputs": [],
   "source": [
    "df = client.get_dataset(\"df\")"
   ]
  },
  {
   "cell_type": "code",
   "execution_count": 7,
   "metadata": {},
   "outputs": [],
   "source": [
    "with joblib.parallel_backend(\"dask\"):\n",
    "    dv, tf, svd = joblib.load(\"./model/joblib/joblib/__main__--home-dhiraj-Recommendation-__ipython-input__/cache_models/72a755383fba437e4dead6ff3e3d81e3/output.pkl\")"
   ]
  },
  {
   "cell_type": "code",
   "execution_count": 8,
   "metadata": {},
   "outputs": [],
   "source": [
    "query = \"convolutional neural networks\""
   ]
  },
  {
   "cell_type": "code",
   "execution_count": 9,
   "metadata": {},
   "outputs": [],
   "source": [
    "tfidf = tf.transform([query]).toarray()"
   ]
  },
  {
   "cell_type": "code",
   "execution_count": 10,
   "metadata": {},
   "outputs": [
    {
     "data": {
      "text/plain": [
       "2246"
      ]
     },
     "execution_count": 10,
     "metadata": {},
     "output_type": "execute_result"
    }
   ],
   "source": [
    "len(tf.get_feature_names())"
   ]
  },
  {
   "cell_type": "code",
   "execution_count": 11,
   "metadata": {},
   "outputs": [
    {
     "data": {
      "text/plain": [
       "2243"
      ]
     },
     "execution_count": 11,
     "metadata": {},
     "output_type": "execute_result"
    }
   ],
   "source": [
    "np.sum(tfidf.reshape(-1) == 0)"
   ]
  },
  {
   "cell_type": "code",
   "execution_count": 12,
   "metadata": {},
   "outputs": [],
   "source": [
    "inf = dv.infer_vector(query.split(\" \"), epochs=10).reshape(1, -1)"
   ]
  },
  {
   "cell_type": "code",
   "execution_count": 13,
   "metadata": {},
   "outputs": [],
   "source": [
    "cluster = kmeans.predict(inf)"
   ]
  },
  {
   "cell_type": "code",
   "execution_count": 14,
   "metadata": {},
   "outputs": [],
   "source": [
    "prediction = cluster.compute()[0]"
   ]
  },
  {
   "cell_type": "code",
   "execution_count": 15,
   "metadata": {},
   "outputs": [],
   "source": [
    "doc2vec_cluster = doc2vec_feature_matrix[doc2vec_feature_matrix[\"labels\"] == prediction][doc2vec_feature_matrix.columns.difference(['labels'])]"
   ]
  },
  {
   "cell_type": "code",
   "execution_count": 16,
   "metadata": {},
   "outputs": [],
   "source": [
    "svd_cluster = svd_feature_matrix[svd_feature_matrix[\"labels\"] == prediction][svd_feature_matrix.columns.difference(['labels'])]"
   ]
  },
  {
   "cell_type": "code",
   "execution_count": 17,
   "metadata": {},
   "outputs": [],
   "source": [
    "df = df[df[\"labels\"] == prediction]"
   ]
  },
  {
   "cell_type": "code",
   "execution_count": 18,
   "metadata": {},
   "outputs": [],
   "source": [
    "latent_matrix = svd.transform(tfidf)"
   ]
  },
  {
   "cell_type": "code",
   "execution_count": 19,
   "metadata": {},
   "outputs": [],
   "source": [
    "with joblib.parallel_backend(\"dask\"):\n",
    "    svd_cluster_similarity = dd.from_array(cosine_similarity(svd_cluster, latent_matrix))\n",
    "    doc2vec_cluster_similarity = dd.from_array(cosine_similarity(doc2vec_cluster, inf))"
   ]
  },
  {
   "cell_type": "code",
   "execution_count": 20,
   "metadata": {},
   "outputs": [],
   "source": [
    "svd_cluster_similarity.columns = [\"bow\"]\n",
    "doc2vec_cluster_similarity.columns = [\"doc2vec\"]"
   ]
  },
  {
   "cell_type": "code",
   "execution_count": 21,
   "metadata": {},
   "outputs": [],
   "source": [
    "svd_cluster_similarity[\"bow\"] = svd_cluster_similarity[\"bow\"]*df[\"weights\"]"
   ]
  },
  {
   "cell_type": "code",
   "execution_count": 22,
   "metadata": {},
   "outputs": [],
   "source": [
    "doc2vec_cluster_similarity[\"doc2vec\"] = doc2vec_cluster_similarity['doc2vec']*df['weights']"
   ]
  },
  {
   "cell_type": "code",
   "execution_count": 23,
   "metadata": {},
   "outputs": [],
   "source": [
    "total_weights = svd_cluster_similarity[\"bow\"] + doc2vec_cluster_similarity[\"doc2vec\"]"
   ]
  },
  {
   "cell_type": "code",
   "execution_count": 24,
   "metadata": {},
   "outputs": [],
   "source": [
    "similar_files = dd.concat([df[\"files\"], total_weights], axis=1)"
   ]
  },
  {
   "cell_type": "code",
   "execution_count": 25,
   "metadata": {},
   "outputs": [],
   "source": [
    "similar_files.columns = [\"files\", \"total\"]"
   ]
  },
  {
   "cell_type": "code",
   "execution_count": 26,
   "metadata": {},
   "outputs": [],
   "source": [
    "agg_files = similar_files.groupby(\"files\").agg({\"total\": sum})"
   ]
  },
  {
   "cell_type": "code",
   "execution_count": 27,
   "metadata": {},
   "outputs": [
    {
     "data": {
      "text/plain": [
       "Index(['SCRUTINIZING BEHAVIOUR OF VM COMMUNICATION.pdf',\n",
       "       'APPLICATION TO DETERMINE THE SAFEST ROUTE USING CRIME JANALYSIS VIA DECISION TREE JALGORITHM_78.pdf',\n",
       "       'ONLINE REVIEW ANALYSIS.pdf',\n",
       "       'PATTERN DETECTION AND_RECOGNITION SYSTEM FOR VEHICLES.pdf',\n",
       "       'Marathi translation using wsd concept_36.pdf',\n",
       "       'E-Care-Android Application For Health Monitoring_73.pdf',\n",
       "       'CONVERSION OF VIDEO CONTAINING SIGN_LANGUAGE TO TEXTUAL FORMAT.pdf',\n",
       "       'INTELLIGENT TOLL AUTOMATION SYSTEM_50.pdf',\n",
       "       'Object Based Visual Sentiment Analysis.pdf',\n",
       "       'Robust Speaker Recognition System for  online authentication and real-time verification.pdf'],\n",
       "      dtype='object', name='files')"
      ]
     },
     "execution_count": 27,
     "metadata": {},
     "output_type": "execute_result"
    }
   ],
   "source": [
    "agg_files[\"total\"].nlargest(10).compute().keys()"
   ]
  },
  {
   "cell_type": "code",
   "execution_count": 28,
   "metadata": {},
   "outputs": [
    {
     "name": "stdout",
     "output_type": "stream",
     "text": [
      "6.52833104133606\n"
     ]
    }
   ],
   "source": [
    "print(time.time() - start)"
   ]
  },
  {
   "cell_type": "markdown",
   "metadata": {},
   "source": [
    "Algorithm took 6.44 s for giving results."
   ]
  },
  {
   "cell_type": "markdown",
   "metadata": {},
   "source": [
    "# End of phase 6"
   ]
  },
  {
   "cell_type": "code",
   "execution_count": null,
   "metadata": {},
   "outputs": [],
   "source": []
  }
 ],
 "metadata": {
  "kernelspec": {
   "display_name": "Python 3",
   "language": "python",
   "name": "python3"
  },
  "language_info": {
   "codemirror_mode": {
    "name": "ipython",
    "version": 3
   },
   "file_extension": ".py",
   "mimetype": "text/x-python",
   "name": "python",
   "nbconvert_exporter": "python",
   "pygments_lexer": "ipython3",
   "version": "3.7.3"
  }
 },
 "nbformat": 4,
 "nbformat_minor": 2
}
