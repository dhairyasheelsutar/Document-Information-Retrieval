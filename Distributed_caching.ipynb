{
 "cells": [
  {
   "cell_type": "markdown",
   "metadata": {},
   "source": [
    "# Distributed Dask (Phase 5)"
   ]
  },
  {
   "cell_type": "markdown",
   "metadata": {},
   "source": [
    "#### Input: \n",
    "   Models trained in stage 5.\n",
    "#### Output:\n",
    "   Distributed and cached dataframes that can scale upto cluster.\n",
    "#### Algorithm:\n",
    "   a) Read pandas dataframes and convert them to dask dataframes. <br>\n",
    "   b) Persist the dataframes into distributed memory.<br>\n",
    "   c) Using joblib to cache tfidfVectorizer, SVD and doc2vec<br>"
   ]
  },
  {
   "cell_type": "code",
   "execution_count": 1,
   "metadata": {},
   "outputs": [],
   "source": [
    "from dask.distributed import Client\n",
    "import dask.array as da\n",
    "import dask.dataframe as dd\n",
    "import joblib\n",
    "import time\n",
    "import gc\n",
    "from gensim.models import Doc2Vec\n",
    "from dask_ml.cluster import KMeans"
   ]
  },
  {
   "cell_type": "code",
   "execution_count": 2,
   "metadata": {},
   "outputs": [],
   "source": [
    "client = Client()"
   ]
  },
  {
   "cell_type": "code",
   "execution_count": 3,
   "metadata": {},
   "outputs": [
    {
     "data": {
      "text/html": [
       "<table style=\"border: 2px solid white;\">\n",
       "<tr>\n",
       "<td style=\"vertical-align: top; border: 0px solid white\">\n",
       "<h3 style=\"text-align: left;\">Client</h3>\n",
       "<ul style=\"text-align: left; list-style: none; margin: 0; padding: 0;\">\n",
       "  <li><b>Scheduler: </b>tcp://127.0.0.1:37417</li>\n",
       "  <li><b>Dashboard: </b><a href='http://127.0.0.1:8787/status' target='_blank'>http://127.0.0.1:8787/status</a>\n",
       "</ul>\n",
       "</td>\n",
       "<td style=\"vertical-align: top; border: 0px solid white\">\n",
       "<h3 style=\"text-align: left;\">Cluster</h3>\n",
       "<ul style=\"text-align: left; list-style:none; margin: 0; padding: 0;\">\n",
       "  <li><b>Workers: </b>4</li>\n",
       "  <li><b>Cores: </b>4</li>\n",
       "  <li><b>Memory: </b>16.69 GB</li>\n",
       "</ul>\n",
       "</td>\n",
       "</tr>\n",
       "</table>"
      ],
      "text/plain": [
       "<Client: 'tcp://127.0.0.1:37417' processes=4 threads=4, memory=16.69 GB>"
      ]
     },
     "execution_count": 3,
     "metadata": {},
     "output_type": "execute_result"
    }
   ],
   "source": [
    "client"
   ]
  },
  {
   "cell_type": "code",
   "execution_count": 4,
   "metadata": {},
   "outputs": [],
   "source": [
    "def convert_to_distributed(path, partitions, choice=None):\n",
    "    feature_matrix = joblib.load(path)\n",
    "    if choice != None:\n",
    "        feature_matrix = feature_matrix.iloc[1:]\n",
    "    feature_matrix.reset_index(inplace=True)\n",
    "    dask_matrix = dd.from_pandas(feature_matrix, npartitions=partitions)\n",
    "    del feature_matrix\n",
    "    gc.collect()\n",
    "    return dask_matrix"
   ]
  },
  {
   "cell_type": "code",
   "execution_count": 5,
   "metadata": {},
   "outputs": [],
   "source": [
    "svd_feature_matrix = convert_to_distributed(\"./model/lsa_embeddings.pkl\", 4)"
   ]
  },
  {
   "cell_type": "code",
   "execution_count": 6,
   "metadata": {},
   "outputs": [],
   "source": [
    "doc2vec_feature_matrix = convert_to_distributed(\"./model/doc2vec_embeddings.pkl\", 4)"
   ]
  },
  {
   "cell_type": "code",
   "execution_count": 7,
   "metadata": {},
   "outputs": [],
   "source": [
    "svd_feature_matrix = svd_feature_matrix.drop(\"files\", axis=1)\n",
    "doc2vec_feature_matrix = doc2vec_feature_matrix.drop(\"files\", axis=1)"
   ]
  },
  {
   "cell_type": "code",
   "execution_count": 8,
   "metadata": {},
   "outputs": [],
   "source": [
    "df = convert_to_distributed(\"./model/dataset.pkl\", 4, 1)\n",
    "df = df.drop(labels=[\"level_0\", \"index\"], axis=1)\n",
    "df = df.drop(\"keywords\", axis=1)\n",
    "df[\"weights\"] = df[\"weights\"].astype(float)"
   ]
  },
  {
   "cell_type": "code",
   "execution_count": 9,
   "metadata": {},
   "outputs": [
    {
     "data": {
      "text/html": [
       "<div>\n",
       "<style scoped>\n",
       "    .dataframe tbody tr th:only-of-type {\n",
       "        vertical-align: middle;\n",
       "    }\n",
       "\n",
       "    .dataframe tbody tr th {\n",
       "        vertical-align: top;\n",
       "    }\n",
       "\n",
       "    .dataframe thead th {\n",
       "        text-align: right;\n",
       "    }\n",
       "</style>\n",
       "<table border=\"1\" class=\"dataframe\">\n",
       "  <thead>\n",
       "    <tr style=\"text-align: right;\">\n",
       "      <th></th>\n",
       "      <th>files</th>\n",
       "      <th>weights</th>\n",
       "    </tr>\n",
       "  </thead>\n",
       "  <tbody>\n",
       "    <tr>\n",
       "      <th>0</th>\n",
       "      <td>User Application for Shop Floor Automation usi...</td>\n",
       "      <td>165.796429</td>\n",
       "    </tr>\n",
       "    <tr>\n",
       "      <th>1</th>\n",
       "      <td>User Application for Shop Floor Automation usi...</td>\n",
       "      <td>146.191667</td>\n",
       "    </tr>\n",
       "    <tr>\n",
       "      <th>2</th>\n",
       "      <td>User Application for Shop Floor Automation usi...</td>\n",
       "      <td>129.714379</td>\n",
       "    </tr>\n",
       "    <tr>\n",
       "      <th>3</th>\n",
       "      <td>User Application for Shop Floor Automation usi...</td>\n",
       "      <td>113.209091</td>\n",
       "    </tr>\n",
       "    <tr>\n",
       "      <th>4</th>\n",
       "      <td>User Application for Shop Floor Automation usi...</td>\n",
       "      <td>98.419441</td>\n",
       "    </tr>\n",
       "  </tbody>\n",
       "</table>\n",
       "</div>"
      ],
      "text/plain": [
       "                                               files     weights\n",
       "0  User Application for Shop Floor Automation usi...  165.796429\n",
       "1  User Application for Shop Floor Automation usi...  146.191667\n",
       "2  User Application for Shop Floor Automation usi...  129.714379\n",
       "3  User Application for Shop Floor Automation usi...  113.209091\n",
       "4  User Application for Shop Floor Automation usi...   98.419441"
      ]
     },
     "execution_count": 9,
     "metadata": {},
     "output_type": "execute_result"
    }
   ],
   "source": [
    "df.head()"
   ]
  },
  {
   "cell_type": "code",
   "execution_count": 10,
   "metadata": {},
   "outputs": [
    {
     "name": "stderr",
     "output_type": "stream",
     "text": [
      "/home/dhiraj/anaconda3/lib/python3.7/site-packages/distributed/worker.py:3221: UserWarning: Large object of size 288.74 MB detected in task graph: \n",
      "  (                                                  ... 73705b671f691')\n",
      "Consider scattering large objects ahead of time\n",
      "with client.scatter to reduce scheduler burden and \n",
      "keep data on workers\n",
      "\n",
      "    future = client.submit(func, big_data)    # bad\n",
      "\n",
      "    big_future = client.scatter(big_data)     # good\n",
      "    future = client.submit(func, big_future)  # good\n",
      "  % (format_bytes(len(b)), s)\n"
     ]
    }
   ],
   "source": [
    "svd_feature_matrix = svd_feature_matrix.persist()\n",
    "doc2vec_feature_matrix = doc2vec_feature_matrix.persist()\n",
    "df = df.persist()"
   ]
  },
  {
   "cell_type": "code",
   "execution_count": 11,
   "metadata": {},
   "outputs": [
    {
     "name": "stdout",
     "output_type": "stream",
     "text": [
      "CPU times: user 3.84 s, sys: 1.74 s, total: 5.58 s\n",
      "Wall time: 13.6 s\n"
     ]
    },
    {
     "data": {
      "text/plain": [
       "KMeans(algorithm='full', copy_x=True, init='k-means||', init_max_iter=None,\n",
       "       max_iter=300, n_clusters=4, n_jobs=1, oversampling_factor=2,\n",
       "       precompute_distances='auto', random_state=89, tol=0.0001)"
      ]
     },
     "execution_count": 11,
     "metadata": {},
     "output_type": "execute_result"
    }
   ],
   "source": [
    "%%time\n",
    "cluster = KMeans(n_clusters=4, random_state=89)\n",
    "cluster.fit(doc2vec_feature_matrix)"
   ]
  },
  {
   "cell_type": "code",
   "execution_count": 12,
   "metadata": {},
   "outputs": [],
   "source": [
    "labels = dd.from_array(cluster.labels_)"
   ]
  },
  {
   "cell_type": "code",
   "execution_count": 13,
   "metadata": {},
   "outputs": [],
   "source": [
    "doc2vec_feature_matrix[\"labels\"] = labels\n",
    "svd_feature_matrix[\"labels\"] = labels\n",
    "df[\"labels\"] = labels"
   ]
  },
  {
   "cell_type": "code",
   "execution_count": 14,
   "metadata": {},
   "outputs": [],
   "source": [
    "client.publish_dataset(svd_feature_matrix=svd_feature_matrix)\n",
    "client.publish_dataset(doc2vec_feature_matrix=doc2vec_feature_matrix)\n",
    "client.publish_dataset(df=df)\n",
    "client.publish_dataset(cluster=cluster)"
   ]
  },
  {
   "cell_type": "code",
   "execution_count": 15,
   "metadata": {},
   "outputs": [],
   "source": [
    "def cache_models():\n",
    "    dv = Doc2Vec.load(\"./model/doc2vec_model\")\n",
    "    tf = joblib.load(\"./model/tfidf_model.pkl\")\n",
    "    svd = joblib.load(\"./model/svd_model.pkl\")\n",
    "    return dv, tf, svd"
   ]
  },
  {
   "cell_type": "code",
   "execution_count": 16,
   "metadata": {},
   "outputs": [],
   "source": [
    "memory = joblib.Memory(location=\"./model/joblib\")"
   ]
  },
  {
   "cell_type": "code",
   "execution_count": 17,
   "metadata": {},
   "outputs": [],
   "source": [
    "costly_compute_cached = memory.cache(func=cache_models)"
   ]
  },
  {
   "cell_type": "code",
   "execution_count": 18,
   "metadata": {},
   "outputs": [],
   "source": [
    "start = time.time()\n",
    "dv, tf, svd = costly_compute_cached()\n",
    "end = time.time()"
   ]
  },
  {
   "cell_type": "markdown",
   "metadata": {},
   "source": [
    "# End of Phase 5"
   ]
  },
  {
   "cell_type": "code",
   "execution_count": null,
   "metadata": {},
   "outputs": [],
   "source": []
  }
 ],
 "metadata": {
  "kernelspec": {
   "display_name": "Python 3",
   "language": "python",
   "name": "python3"
  },
  "language_info": {
   "codemirror_mode": {
    "name": "ipython",
    "version": 3
   },
   "file_extension": ".py",
   "mimetype": "text/x-python",
   "name": "python",
   "nbconvert_exporter": "python",
   "pygments_lexer": "ipython3",
   "version": "3.7.3"
  }
 },
 "nbformat": 4,
 "nbformat_minor": 2
}
