{
 "cells": [
  {
   "cell_type": "markdown",
   "metadata": {},
   "source": [
    "# Exploratory Data Analysis - Cleaning"
   ]
  },
  {
   "cell_type": "markdown",
   "metadata": {},
   "source": [
    "#### Objectives\n",
    "\n",
    "1) Load the dataset.json file.<br>\n",
    "2) Preprocess, Clean the data and create the csv file called data.csv<br>\n",
    "3) Create the file keyword.csv<br>\n",
    "4) Create the file with other attributes like metadata.csv<br>"
   ]
  },
  {
   "cell_type": "code",
   "execution_count": 1,
   "metadata": {},
   "outputs": [],
   "source": [
    "import json\n",
    "import numpy as np\n",
    "import pandas as pd\n",
    "import matplotlib.pyplot as plt\n",
    "import seaborn as sns\n",
    "from nltk.tokenize import word_tokenize\n",
    "from sklearn.feature_extraction.text import CountVectorizer\n",
    "import re\n",
    "from nltk.stem import WordNetLemmatizer\n",
    "import string\n",
    "%matplotlib notebook"
   ]
  },
  {
   "cell_type": "code",
   "execution_count": 3,
   "metadata": {},
   "outputs": [],
   "source": [
    "dataset_1 = json.load(open('dataset_1.json'))"
   ]
  },
  {
   "cell_type": "code",
   "execution_count": 4,
   "metadata": {},
   "outputs": [],
   "source": [
    "dataset_2 = json.load(open('dataset_2.json'))"
   ]
  },
  {
   "cell_type": "code",
   "execution_count": 5,
   "metadata": {},
   "outputs": [],
   "source": [
    "dataset = {**dataset_1, **dataset_2}"
   ]
  },
  {
   "cell_type": "code",
   "execution_count": 6,
   "metadata": {},
   "outputs": [],
   "source": [
    "documents_data = []"
   ]
  },
  {
   "cell_type": "code",
   "execution_count": 7,
   "metadata": {},
   "outputs": [
    {
     "name": "stdout",
     "output_type": "stream",
     "text": [
      "Wall time: 998 µs\n"
     ]
    }
   ],
   "source": [
    "%%time\n",
    "for key in dataset:\n",
    "    try:\n",
    "        documents_data.append([dataset[key][\"title\"], dataset[key][\"data\"]])\n",
    "    except:\n",
    "        pass"
   ]
  },
  {
   "cell_type": "code",
   "execution_count": 8,
   "metadata": {},
   "outputs": [],
   "source": [
    "documents_data = np.array(documents_data)\n",
    "documents_data = pd.DataFrame(documents_data, columns=[\"project\", \"data\"])"
   ]
  },
  {
   "cell_type": "code",
   "execution_count": 9,
   "metadata": {},
   "outputs": [
    {
     "data": {
      "text/html": [
       "<div>\n",
       "<style scoped>\n",
       "    .dataframe tbody tr th:only-of-type {\n",
       "        vertical-align: middle;\n",
       "    }\n",
       "\n",
       "    .dataframe tbody tr th {\n",
       "        vertical-align: top;\n",
       "    }\n",
       "\n",
       "    .dataframe thead th {\n",
       "        text-align: right;\n",
       "    }\n",
       "</style>\n",
       "<table border=\"1\" class=\"dataframe\">\n",
       "  <thead>\n",
       "    <tr style=\"text-align: right;\">\n",
       "      <th></th>\n",
       "      <th>project</th>\n",
       "      <th>data</th>\n",
       "    </tr>\n",
       "  </thead>\n",
       "  <tbody>\n",
       "    <tr>\n",
       "      <th>0</th>\n",
       "      <td>integrated spice modeling/simulation of circui...</td>\n",
       "      <td>integrated spice modeling/simulation circuit s...</td>\n",
       "    </tr>\n",
       "    <tr>\n",
       "      <th>1</th>\n",
       "      <td>secure online payment system using    data hid...</td>\n",
       "      <td>secure online payment hiding technique electro...</td>\n",
       "    </tr>\n",
       "    <tr>\n",
       "      <th>2</th>\n",
       "      <td>“face detection and recognisation based   atte...</td>\n",
       "      <td>face detection recognisation based attendance ...</td>\n",
       "    </tr>\n",
       "    <tr>\n",
       "      <th>3</th>\n",
       "      <td>3d image scanner</td>\n",
       "      <td>3d image scanner electronics telecommunication...</td>\n",
       "    </tr>\n",
       "    <tr>\n",
       "      <th>4</th>\n",
       "      <td>project phase 1      attendance management sys...</td>\n",
       "      <td>phase 1 attendance face recognition electronic...</td>\n",
       "    </tr>\n",
       "  </tbody>\n",
       "</table>\n",
       "</div>"
      ],
      "text/plain": [
       "                                             project  \\\n",
       "0  integrated spice modeling/simulation of circui...   \n",
       "1  secure online payment system using    data hid...   \n",
       "2  “face detection and recognisation based   atte...   \n",
       "3                                   3d image scanner   \n",
       "4  project phase 1      attendance management sys...   \n",
       "\n",
       "                                                data  \n",
       "0  integrated spice modeling/simulation circuit s...  \n",
       "1  secure online payment hiding technique electro...  \n",
       "2  face detection recognisation based attendance ...  \n",
       "3  3d image scanner electronics telecommunication...  \n",
       "4  phase 1 attendance face recognition electronic...  "
      ]
     },
     "execution_count": 9,
     "metadata": {},
     "output_type": "execute_result"
    }
   ],
   "source": [
    "documents_data.head()"
   ]
  },
  {
   "cell_type": "code",
   "execution_count": 10,
   "metadata": {},
   "outputs": [
    {
     "data": {
      "text/plain": [
       "(511, 2)"
      ]
     },
     "execution_count": 10,
     "metadata": {},
     "output_type": "execute_result"
    }
   ],
   "source": [
    "documents_data.shape"
   ]
  },
  {
   "cell_type": "code",
   "execution_count": 11,
   "metadata": {},
   "outputs": [],
   "source": [
    "lemma = WordNetLemmatizer()"
   ]
  },
  {
   "cell_type": "code",
   "execution_count": 13,
   "metadata": {},
   "outputs": [],
   "source": [
    "def preprocess(text):\n",
    "    \n",
    "    text = str(text).replace(\".\", \" \").replace(\"/\", \" \")\n",
    "    text = re.sub(\"b[0-9]{9}\", \"\", str(text))\n",
    "    text = text.translate(str.maketrans('', '', string.punctuation))\n",
    "    tokens = word_tokenize(text)\n",
    "    \n",
    "    stop_list = [\"input\", \"output\", \"fig\", \"database\", \"pict\", \"time\", \"paper\", \"description\", \"function\", \"class\", \"based\", \"process\", \"cid\", \"http\", \"www\", \"com\", \"electronics\", \"telecommunication\"]\n",
    "    \n",
    "    removed_numbers = [token for token in tokens if token.isdigit() == False]\n",
    "    lemmetized_data = [lemma.lemmatize(token) for token in removed_numbers]\n",
    "    remove_len_one = [token for token in lemmetized_data if len(token) > 1]\n",
    "    len_two_words = [token for token in remove_len_one if len(token) == 2 and token[0].isdigit() == False]\n",
    "    remove_len_two = [token for token in remove_len_one if token not in len_two_words]\n",
    "    remove_stop_words = [token for token in remove_len_two if token not in stop_list]\n",
    "    \n",
    "    return \" \".join(remove_stop_words)"
   ]
  },
  {
   "cell_type": "code",
   "execution_count": 14,
   "metadata": {
    "scrolled": true
   },
   "outputs": [
    {
     "data": {
      "text/plain": [
       "'integrated spice modeling simulation circuit schematic responsive nishant poorswani mitesh rane hrishikesh raut prof dudam integrated spice modeling simulation circuit schematic responsive completed nishant poorswani mitesh rane hrishikesh raut bona fide guidance prof dudam earlier diploma prof dudam prof ravinder prof hod acknowledgement participation assistance people enumerated contribution sincerely appreciated gratefully acknowledged group express deep appreciation indebtedness express deep sense gratitude dudam vinay sharma industrial valuable guidance keen interest constructive criticism encouragement stage completion thanking nishant poorswani mitesh rane hrishikesh raut definition approach acronym relevance background dsch highlight winspice delphi discussion standard circuit element step winspice working field vlsi electronic automation eda referred electronic computeraided ecad category designing electronic integrated circuit printed circuit board feasible physically implement eda handy eda dsch graphical visualization dsch limited hand winspice easy check integrity circuit device simultaneously study minute device lack graphical visualization circuit complicated difficult keep track node writing netlist tedious integrating winspice dsch making eda powerful visuals well ability check response integrity circuit spice spice command write netlist created designer change generated spice code knowing spice command completion circuit easy designer extra option check response circuit easy platform abbreviation acronym dsch spice vlsi eda ecad mosfet asic gui digital schematic editor simulator simulation program integrated circuit emphasis scale integration electronic automation electronic computeraided metal oxide semiconductor field transistor specific integrated circuit integrated circuit graphical approach dsch generate spice utility conceptual winspice delphi delphi environment dsch schematic actual dsch iii background microwind toulouse france dedicated provide microwind innovative eda solution mixedsignal market industry comprehensive package dedicated microelectronics nanotechnology deeptechnology business asic custom simulation well latest electronic automation dsch program logic editor simulator microwind dsch validate logic circuit microelectronics started dsch userfriendly environment hierarchical logic fast simulation delay allows validation complex logic help dsch generate spice verilog file dsch basic level limited delay spice file analyze aspect circuit dsch generate spice file drawn circuit spice gui path generated file perform procedure currently slow tedious relevance vlsi stand scale integration current syllabus subject cover working ideal mosfets drawback microwind dsch practical subject microwind draw layer level mosfets dsch draw level gate standard logic symbol spice curriculum aspire field vlsi essential circuit perfect integrated circuit built simulating circuit spice industrystandard verify circuit operation transistor level committing manufacturing integrated circuit working circuit expected equation calculation equation relation spice text netlist describing circuit element transistor resistor capacitor connection translate equation solved working closest real circuit helping knowledge industry easier analyse circuit built dsch practical current dsch schematic editor simulator dsch userfriendly environment rapid logic circuit support sub micron deepsubmicron nano scale dsch simulate digital perform digital analog circuit built extractor generates spice netlist schematic compatible pspice winspice converting verilog file layout microwind verilog file dsch software the dsch wide range component digital analog dsch doe direct pspice winspice dsch level 35um 45nm spice netlists spice netlists range transient fixed range 0v 1v step increment 1v range range 10hz 1ghz step increment 1mhz 10hz 10ghz step increment 1mhz backend frontend designing asic designing easy eda market dsch spice front switching tedious consuming dsch fullfledged performing performing long tedious netlist saved winspice pspice opened performing netlist file opened pspice winspice performed direct provision running simulation winspice pspice dsch lack option term option predefined range range changed dsch3 lack 45nm currently industry library level mosfets lack bsim dsch making layout microwind check correctness difficult draw layout complicated circuit dsch convert layout dsch spice provide great learning platform learn concept vlsi hand experience thing industry dsch version fixed fullfledged perform ease range option flexibility provide range library updated industry shifted 45nm moved 32nm 22nm analyze newer observation thing change foundry change addressing fullproofed userfriendly definition integration winspice dsch responsive easy nontedious launched update microwind version dsch spice gui opened kind circuit behavior updated dsch winspice option selecting analyze range analyze selects range spice netlist updated mentioned range direct option running winspice directly analyzed graph plotted range mentioned dsch updated current industry standard update care mentioned flaw version completely userfriendly powerful approach dsch dsch program logic editor simulator dsch validate logic circuit microelectronics started dsch userfriendly environment hierarchical logic fast simulation delay allows validation complex logic dsch symbol assembly support 16f84 controller designer create logic circuit interfacing controller verify program dsch dsch easy realization simple inverter dsch dsch highlight dsch userfriendly environment rapid logic circuit support hierarchical logic fault gate level digital fault stuck1 stuckat0 technique allows injection single stuckat fault node circuit handle conventional patternbased logic simulation intuitive screen mousedriven simulation builtin extractor generates spice netlist schematic compatible pspicetm winspicetm access symbol property delay fanout generates verilog schematic layout conversion assembly support pic 16f84 microcontrollers submicron deepsubmicron nanoscale support supported symbol library dsch easy analyze working simple circuit doesnt responsive creates spice file opened spice analyze file spice path generated file change circuit dsch spice file updated path file spice gui tedious spice single spice file option dsch generate update generate spice utility implemented option winspice window dsch concept conceptual winspice lossy transmission lossless spice short simulation program integrated circuit emphasis spice generalpurpose circuit simulation program nonlinear nonlinear transient linear circuit resistor capacitor inductor mutual inductor independent voltage current source dependent source separate switch uniform distributed common semiconductor device diode bjts jfets mesfets mosfets spice originates eec california berkeley well circuit simulator addition circuit simulator written fulfill derived spice winspice winspice port spice3f4 win32 winspice ported window native 32bit spice3f4 version berkeley spice version spice3f5 advantage winspice numerous spice program size circuit simulate powerful barebones circuit simulator winspice force understand simulator netlists example sophisticated program schematic capture schematic capture allows draw schematic simulate schematic winspice installed ece working winspice dsch winspice path file generated dsch generated file netlist text format saved cir extention path winspice execute file file desired response response achieved verified help calculation path file generated winspice fig3 winspice standard circuit element letter resistor capacitor inductor coupled inductor voltagecontrolled switch currentcontrolled switch independent current source linear voltagecontrolled current source linear nonlinear voltagecontrolled voltage source linear nonlinear currentcontrolled current source linear currentcontrolled voltage source nonlinear dependent voltage current source lossless transmission lossy transmission uniform distributed transmission diode bipolar junction transistor bjt junction fieldeffect transistor jfet mosfet mesfet step winspice step performing circuit simulation winspice draw circuit number label node create winspice netliston notepad text editor filename form cir filename cir extension file winspice file component circuit control simulate circuit winspice evaluate combination plotting winspice saving file delphi delphi fastest write compile package deploy crossplatform native delphi choice developer wanting power readability flexibility modern object pascal language coupled native compiler component library fast single source code development window macos android linux rad studio ide support full development lifecycle deliver single source codebase simply recompile redeploy basic rad studio develop debug deploy code collaborate extend fast crossplatform native apps rapidly rad studio ide benefit early feedback range device live preview powered real device ide simplify prototype faster reach platform quicker faster live live designtime help developer speed target screen size prototype faster earlier fit live support multiple source including rest apis faster powerful component library simply drag drop component build choose winning vcl component library window smart crossplatform firemonkey fmx library ecosystem commercial source component ide getit package manager designed usability adding usability simple setting component property object inspector component property help rapidly add generic usability platform writing code displaying keyboard entry positioning tab location platform usability built smart responsive designing build multiple device flexibility offered fireui multidevice designer create default rapidly resolution aware component add device specific layout target window desktop surface pro tablet macos desktop iphone ipad android tablet smartphones wearable preview change instantly device behaves device keep working rad studio ide running device creating additional view fireui app preview preview firemonkey android macos window target designing app integrate code livebindings designer visually connect element source ready connecting live easy designer provide developer move complete wireframe aid early usability discussion learning embarcadero rad studio delphi orientation gui decided delphi additional option quantum dot gui user friendly provided ease customization level spice small change generated spice file selecting option job analyzing circuit easier designing embarcadero looked delphi environment writing backend code tab code included source code updated tested ideal circuit response tested circuit designed group worked error dsch schematic inverter drawn dsch choosing generate spice file actual dsch change generated spice file option provided left side directly code spice selecting winspice option window winspice generated spice netlist displayed circuit mosfet behavior integral vlsi industry thoroughly studied understood tested dsch spice file generated dsch verified written netlist check dependability matched perfectly gui winspice option option provided making userfriendly familiar spice language change spice file desired save spice file option change spice file saved text file making reproducible completion multiple example tested updated matched expected experience account conclude analyzing drawn circuit save lot job analyzing circuit easier independent satisfactory extra version microwind microwind net tadej tuma circuit simulation spice opus theory practice paul tuinenga spice circuit simulation pspice prentice hall walter banzhaf computeraided circuit spice prentice hall 01jan1989 muhammad rashid spice power electric power andrei vladimirescu spice book github github dragonpup96 winspice stuffle website reference winspicetutorial pdf ltspice linear designtool software allen holberg analog cmos oxford press neil weste david money harris cmos vlsi circuit perspective pearson publication delphi embarcadero product radstudio nick hodges coding delphi createspace independent publishing platform daniele teti delphi cookbook packt publishing 25sep2014 pawel glowacki expert delphi packt publishing 30jun2017'"
      ]
     },
     "execution_count": 14,
     "metadata": {},
     "output_type": "execute_result"
    }
   ],
   "source": [
    "preprocess(documents_data[\"data\"][0])"
   ]
  },
  {
   "cell_type": "code",
   "execution_count": 15,
   "metadata": {},
   "outputs": [
    {
     "name": "stdout",
     "output_type": "stream",
     "text": [
      "Wall time: 15.2 s\n"
     ]
    }
   ],
   "source": [
    "%%time\n",
    "documents_data[\"data\"] = documents_data[\"data\"].apply(preprocess)"
   ]
  },
  {
   "cell_type": "code",
   "execution_count": 16,
   "metadata": {},
   "outputs": [
    {
     "data": {
      "text/html": [
       "<div>\n",
       "<style scoped>\n",
       "    .dataframe tbody tr th:only-of-type {\n",
       "        vertical-align: middle;\n",
       "    }\n",
       "\n",
       "    .dataframe tbody tr th {\n",
       "        vertical-align: top;\n",
       "    }\n",
       "\n",
       "    .dataframe thead th {\n",
       "        text-align: right;\n",
       "    }\n",
       "</style>\n",
       "<table border=\"1\" class=\"dataframe\">\n",
       "  <thead>\n",
       "    <tr style=\"text-align: right;\">\n",
       "      <th></th>\n",
       "      <th>project</th>\n",
       "      <th>data</th>\n",
       "    </tr>\n",
       "  </thead>\n",
       "  <tbody>\n",
       "    <tr>\n",
       "      <th>0</th>\n",
       "      <td>integrated spice modeling/simulation of circui...</td>\n",
       "      <td>integrated spice modeling simulation circuit s...</td>\n",
       "    </tr>\n",
       "    <tr>\n",
       "      <th>1</th>\n",
       "      <td>secure online payment system using    data hid...</td>\n",
       "      <td>secure online payment hiding technique shruti ...</td>\n",
       "    </tr>\n",
       "    <tr>\n",
       "      <th>2</th>\n",
       "      <td>“face detection and recognisation based   atte...</td>\n",
       "      <td>face detection recognisation attendance tanmay...</td>\n",
       "    </tr>\n",
       "    <tr>\n",
       "      <th>3</th>\n",
       "      <td>3d image scanner</td>\n",
       "      <td>3d image scanner nangare akshay arun rakshe ve...</td>\n",
       "    </tr>\n",
       "    <tr>\n",
       "      <th>4</th>\n",
       "      <td>project phase 1      attendance management sys...</td>\n",
       "      <td>phase attendance face recognition sayali devad...</td>\n",
       "    </tr>\n",
       "  </tbody>\n",
       "</table>\n",
       "</div>"
      ],
      "text/plain": [
       "                                             project  \\\n",
       "0  integrated spice modeling/simulation of circui...   \n",
       "1  secure online payment system using    data hid...   \n",
       "2  “face detection and recognisation based   atte...   \n",
       "3                                   3d image scanner   \n",
       "4  project phase 1      attendance management sys...   \n",
       "\n",
       "                                                data  \n",
       "0  integrated spice modeling simulation circuit s...  \n",
       "1  secure online payment hiding technique shruti ...  \n",
       "2  face detection recognisation attendance tanmay...  \n",
       "3  3d image scanner nangare akshay arun rakshe ve...  \n",
       "4  phase attendance face recognition sayali devad...  "
      ]
     },
     "execution_count": 16,
     "metadata": {},
     "output_type": "execute_result"
    }
   ],
   "source": [
    "documents_data.head()"
   ]
  },
  {
   "cell_type": "code",
   "execution_count": 17,
   "metadata": {},
   "outputs": [
    {
     "data": {
      "text/plain": [
       "(511, 2)"
      ]
     },
     "execution_count": 17,
     "metadata": {},
     "output_type": "execute_result"
    }
   ],
   "source": [
    "documents_data.shape"
   ]
  },
  {
   "cell_type": "code",
   "execution_count": 18,
   "metadata": {},
   "outputs": [],
   "source": [
    "def plot_10_most_common_words(count_data, count_vectorizer):\n",
    "    \n",
    "    words = count_vectorizer.get_feature_names()\n",
    "    total_counts = np.zeros(len(words))\n",
    "    for t in count_data:\n",
    "        total_counts+=t.toarray()[0]\n",
    "    \n",
    "    count_dict = (zip(words, total_counts))\n",
    "    count_dict = sorted(count_dict, key=lambda x:x[1], reverse=True)[0:20]\n",
    "    words = [w[0] for w in count_dict]\n",
    "    counts = [w[1] for w in count_dict]\n",
    "    x_pos = np.arange(len(words)) \n",
    "    \n",
    "    plt.figure(2, figsize=(15, 15/1.6180))\n",
    "    plt.subplot(title='10 most common words')\n",
    "    sns.set_context(\"notebook\", font_scale=1.25, rc={\"lines.linewidth\": 2.5})\n",
    "    sns.barplot(x_pos, counts, palette='husl')\n",
    "    plt.xticks(x_pos, words, rotation=90) \n",
    "    plt.xlabel('words')\n",
    "    plt.ylabel('counts')\n",
    "    plt.show()"
   ]
  },
  {
   "cell_type": "code",
   "execution_count": 19,
   "metadata": {},
   "outputs": [],
   "source": [
    "def plot_vectorizer(attr):\n",
    "    count_vectorizer = CountVectorizer(stop_words='english')\n",
    "    # Fit and transform the processed titles\n",
    "    count_data = count_vectorizer.fit_transform(documents_data[attr])\n",
    "    # Visualise the 10 most common words\n",
    "    plot_10_most_common_words(count_data, count_vectorizer)"
   ]
  },
  {
   "cell_type": "code",
   "execution_count": 20,
   "metadata": {},
   "outputs": [
    {
     "data": {
      "image/png": "[encoded data removed]",
      "text/plain": [
       "<Figure size 1080x667.491 with 1 Axes>"
      ]
     },
     "metadata": {
      "needs_background": "light"
     },
     "output_type": "display_data"
    }
   ],
   "source": [
    "plot_vectorizer('data')"
   ]
  },
  {
   "cell_type": "markdown",
   "metadata": {},
   "source": [
    "## Done with data cleaning"
   ]
  },
  {
   "cell_type": "code",
   "execution_count": 21,
   "metadata": {},
   "outputs": [
    {
     "data": {
      "image/png": "[encoded data removed]",
      "text/plain": [
       "<Figure size 1080x667.491 with 1 Axes>"
      ]
     },
     "metadata": {
      "needs_background": "light"
     },
     "output_type": "display_data"
    }
   ],
   "source": [
    "plot_vectorizer('project')"
   ]
  },
  {
   "cell_type": "code",
   "execution_count": 22,
   "metadata": {},
   "outputs": [],
   "source": [
    "def preprocess_project_attr(text):\n",
    "    \n",
    "    stop_words = [\"project\", \"pict\", \"phase\", \"fulfillment\", \"partial\", \"requirements\", \"engineering\", \"pune\", \"bachelor\", \"submitted\", \"computer\", \"phule\", \"savitribai\", \"university\", \"degree\"]\n",
    "    \n",
    "    tokens = word_tokenize(text)\n",
    "    removed_numbers = [token for token in tokens if len(token) > 1]\n",
    "    removed_stop_words = [token for token in removed_numbers if token not in stop_words]\n",
    "    return \" \".join(removed_stop_words)"
   ]
  },
  {
   "cell_type": "code",
   "execution_count": 23,
   "metadata": {},
   "outputs": [
    {
     "data": {
      "text/plain": [
       "'project phase 1      attendance management system using face   recognition'"
      ]
     },
     "execution_count": 23,
     "metadata": {},
     "output_type": "execute_result"
    }
   ],
   "source": [
    "documents_data['project'][4]"
   ]
  },
  {
   "cell_type": "code",
   "execution_count": 24,
   "metadata": {},
   "outputs": [
    {
     "data": {
      "text/plain": [
       "'attendance management system using face recognition'"
      ]
     },
     "execution_count": 24,
     "metadata": {},
     "output_type": "execute_result"
    }
   ],
   "source": [
    "preprocess_project_attr(documents_data['project'][4])"
   ]
  },
  {
   "cell_type": "code",
   "execution_count": 25,
   "metadata": {},
   "outputs": [
    {
     "name": "stdout",
     "output_type": "stream",
     "text": [
      "Wall time: 71.8 ms\n"
     ]
    }
   ],
   "source": [
    "%%time\n",
    "documents_data['project'] = documents_data['project'].apply(preprocess_project_attr)"
   ]
  },
  {
   "cell_type": "code",
   "execution_count": 26,
   "metadata": {},
   "outputs": [
    {
     "data": {
      "text/html": [
       "<div>\n",
       "<style scoped>\n",
       "    .dataframe tbody tr th:only-of-type {\n",
       "        vertical-align: middle;\n",
       "    }\n",
       "\n",
       "    .dataframe tbody tr th {\n",
       "        vertical-align: top;\n",
       "    }\n",
       "\n",
       "    .dataframe thead th {\n",
       "        text-align: right;\n",
       "    }\n",
       "</style>\n",
       "<table border=\"1\" class=\"dataframe\">\n",
       "  <thead>\n",
       "    <tr style=\"text-align: right;\">\n",
       "      <th></th>\n",
       "      <th>project</th>\n",
       "      <th>data</th>\n",
       "    </tr>\n",
       "  </thead>\n",
       "  <tbody>\n",
       "    <tr>\n",
       "      <th>0</th>\n",
       "      <td>integrated spice modeling/simulation of circui...</td>\n",
       "      <td>integrated spice modeling simulation circuit s...</td>\n",
       "    </tr>\n",
       "    <tr>\n",
       "      <th>1</th>\n",
       "      <td>secure online payment system using data hiding...</td>\n",
       "      <td>secure online payment hiding technique shruti ...</td>\n",
       "    </tr>\n",
       "    <tr>\n",
       "      <th>2</th>\n",
       "      <td>face detection and recognisation based attenda...</td>\n",
       "      <td>face detection recognisation attendance tanmay...</td>\n",
       "    </tr>\n",
       "    <tr>\n",
       "      <th>3</th>\n",
       "      <td>3d image scanner</td>\n",
       "      <td>3d image scanner nangare akshay arun rakshe ve...</td>\n",
       "    </tr>\n",
       "    <tr>\n",
       "      <th>4</th>\n",
       "      <td>attendance management system using face recogn...</td>\n",
       "      <td>phase attendance face recognition sayali devad...</td>\n",
       "    </tr>\n",
       "  </tbody>\n",
       "</table>\n",
       "</div>"
      ],
      "text/plain": [
       "                                             project  \\\n",
       "0  integrated spice modeling/simulation of circui...   \n",
       "1  secure online payment system using data hiding...   \n",
       "2  face detection and recognisation based attenda...   \n",
       "3                                   3d image scanner   \n",
       "4  attendance management system using face recogn...   \n",
       "\n",
       "                                                data  \n",
       "0  integrated spice modeling simulation circuit s...  \n",
       "1  secure online payment hiding technique shruti ...  \n",
       "2  face detection recognisation attendance tanmay...  \n",
       "3  3d image scanner nangare akshay arun rakshe ve...  \n",
       "4  phase attendance face recognition sayali devad...  "
      ]
     },
     "execution_count": 26,
     "metadata": {},
     "output_type": "execute_result"
    }
   ],
   "source": [
    "documents_data.head()"
   ]
  },
  {
   "cell_type": "code",
   "execution_count": 27,
   "metadata": {},
   "outputs": [
    {
     "data": {
      "image/png": "[encoded data removed]",
      "text/plain": [
       "<Figure size 1080x667.491 with 1 Axes>"
      ]
     },
     "metadata": {
      "needs_background": "light"
     },
     "output_type": "display_data"
    }
   ],
   "source": [
    "plot_vectorizer('project')"
   ]
  },
  {
   "cell_type": "code",
   "execution_count": 28,
   "metadata": {},
   "outputs": [
    {
     "data": {
      "text/plain": [
       "(511, 2)"
      ]
     },
     "execution_count": 28,
     "metadata": {},
     "output_type": "execute_result"
    }
   ],
   "source": [
    "documents_data.shape"
   ]
  },
  {
   "cell_type": "code",
   "execution_count": 29,
   "metadata": {},
   "outputs": [
    {
     "data": {
      "text/plain": [
       "511"
      ]
     },
     "execution_count": 29,
     "metadata": {},
     "output_type": "execute_result"
    }
   ],
   "source": [
    "len(dataset)"
   ]
  },
  {
   "cell_type": "code",
   "execution_count": 30,
   "metadata": {},
   "outputs": [],
   "source": [
    "## Replace Filtered project names with Origin ones in dataset.json"
   ]
  },
  {
   "cell_type": "code",
   "execution_count": 31,
   "metadata": {},
   "outputs": [],
   "source": [
    "projects_list = list(documents_data['project'])"
   ]
  },
  {
   "cell_type": "code",
   "execution_count": 32,
   "metadata": {},
   "outputs": [],
   "source": [
    "count = 0\n",
    "for key in dataset:\n",
    "    dataset[key][\"title\"] = projects_list[count]\n",
    "    count += 1"
   ]
  },
  {
   "cell_type": "code",
   "execution_count": 33,
   "metadata": {},
   "outputs": [],
   "source": [
    "files_list = []\n",
    "\n",
    "for key in dataset:\n",
    "    files_list.append(dataset[key][\"filename\"])"
   ]
  },
  {
   "cell_type": "code",
   "execution_count": 34,
   "metadata": {},
   "outputs": [],
   "source": [
    "files_list = np.array(files_list)"
   ]
  },
  {
   "cell_type": "code",
   "execution_count": 35,
   "metadata": {},
   "outputs": [],
   "source": [
    "files_list = files_list.reshape(-1, 1)"
   ]
  },
  {
   "cell_type": "code",
   "execution_count": 36,
   "metadata": {},
   "outputs": [
    {
     "data": {
      "text/plain": [
       "array([['./reports_doc/1.pdf'],\n",
       "       ['./reports_doc/102.pdf'],\n",
       "       ['./reports_doc/103.pdf'],\n",
       "       ['./reports_doc/18.pdf'],\n",
       "       ['./reports_doc/22.pdf'],\n",
       "       ['./reports_doc/24.pdf'],\n",
       "       ['./reports_doc/25.pdf'],\n",
       "       ['./reports_doc/29.pdf'],\n",
       "       ['./reports_doc/2D TO 3D IMAGE CONVERSION USING_MACHINE LEARNING APPROACH.pdf'],\n",
       "       ['./reports_doc/34.pdf'],\n",
       "       ['./reports_doc/35.pdf'],\n",
       "       ['./reports_doc/38.pdf'],\n",
       "       ['./reports_doc/3D-image terrain classification using machine learning_46.pdf'],\n",
       "       ['./reports_doc/50.pdf'],\n",
       "       ['./reports_doc/52.pdf'],\n",
       "       ['./reports_doc/54.pdf'],\n",
       "       ['./reports_doc/56.pdf'],\n",
       "       ['./reports_doc/76.pdf'],\n",
       "       ['./reports_doc/85.pdf'],\n",
       "       ['./reports_doc/90.pdf'],\n",
       "       ['./reports_doc/91.pdf'],\n",
       "       ['./reports_doc/93.pdf'],\n",
       "       ['./reports_doc/97.pdf'],\n",
       "       ['./reports_doc/99.pdf'],\n",
       "       ['./reports_doc/A CRYPTOSYSTEM FOR ENCRYPTION OF_DATA USING IMAGES FOR KEY_GENERATION.pdf'],\n",
       "       ['./reports_doc/A fast distributed key-value store based on_the RAFT protocol and Judy arrays_37.pdf'],\n",
       "       ['./reports_doc/A NALYSIS OF G ENE R EGULATION USING_D EEP L EARNING.pdf'],\n",
       "       ['./reports_doc/A SYSTEM FOR LANGUAGE TRANSLATION.pdf'],\n",
       "       ['./reports_doc/Accelerating Foreign Language Learning_62.pdf'],\n",
       "       ['./reports_doc/Adaptive Traffic Congestion Control.pdf'],\n",
       "       ['./reports_doc/Advance_Database_Security_Using_Secure_Layer.pdf'],\n",
       "       ['./reports_doc/AI BUDDY.pdf'],\n",
       "       ['./reports_doc/AI- ASSISTED POTENTIAL HEALTH RISK_PREDICTOR.pdf'],\n",
       "       ['./reports_doc/AIR POLLUTION DETECTION WITH_NAVIGATION SYSTEM.pdf'],\n",
       "       ['./reports_doc/An IoT GATEWAY FOR INTERFACING BLE PERIPHERALS TO CLOUD.pdf'],\n",
       "       ['./reports_doc/Analysis of Indian Stock Market Analysts.pdf'],\n",
       "       ['./reports_doc/ANALYSIS OF PRIVACY POLICIES VIA_MACHINE LEARNING.pdf'],\n",
       "       ['./reports_doc/Analysis of Videos using Deep Learning and High Performance_Computing.pdf'],\n",
       "       ['./reports_doc/ANALYSIS OF WORKLOAD AND ITS_CHARACHTERISITICS PROVIDED BY THE_HYPERVISOR AND RECOMMEND_OPTIMAL FIT IN CLOUD.pdf'],\n",
       "       ['./reports_doc/Analytics Dashboards of E-commerce Backend_12.pdf'],\n",
       "       ['./reports_doc/analyze online clickstream data to understand user intent and personalized ads_25.pdf'],\n",
       "       ['./reports_doc/Analyzing Product Image-Metadata Based On Click Through Rate For Advertisement Logistics_61.pdf'],\n",
       "       ['./reports_doc/ANDROID BASED SOLUTION FOR ANALYSIS OF_POST-HARVEST LOSSES AND PREVENTIVE_MEASURES USING MACHINE LEARNING_15.pdf'],\n",
       "       ['./reports_doc/Android Malware Detection Using Machine Learning_67.pdf'],\n",
       "       ['./reports_doc/ANSWERING OPEN ENDED QUESTIONS_BASED ON IMAGES USING DEEP_LEARNING APPROACH.pdf'],\n",
       "       ['./reports_doc/APPLICATION TO DETERMINE THE SAFEST ROUTE USING CRIME JANALYSIS VIA DECISION TREE JALGORITHM_78.pdf'],\n",
       "       ['./reports_doc/Applications of Deep Neural Networks in Domain Agnostic Recommendation Engine_57.pdf'],\n",
       "       ['./reports_doc/Article Classification and Recommendation system.pdf'],\n",
       "       ['./reports_doc/AUDIT AND COMPLIANCE IN SERVICE_MANAGEMENT USING BLOCKCHAIN.pdf'],\n",
       "       ['./reports_doc/AUTO PAINTER_ TEXT TO IMAGE_SYNTHESIS.pdf'],\n",
       "       ['./reports_doc/Auto-Classification of Tickets in IT Service Management_19.pdf'],\n",
       "       ['./reports_doc/AUTOMATED BRAKING TEST FOR_VEHICLE LICENSES.pdf'],\n",
       "       ['./reports_doc/AUTOMATED FINANCIAL PORTFOLIO BUILDING_57.pdf'],\n",
       "       ['./reports_doc/AUTOMATED GLAUCOMA DETECTION.pdf'],\n",
       "       ['./reports_doc/AUTOMATED LOG ANALYSIS AND FILTERING_73.pdf'],\n",
       "       ['./reports_doc/Automated Power Measurement System_79.pdf'],\n",
       "       ['./reports_doc/Automated Sound Quality Enhancer Assistant.pdf'],\n",
       "       ['./reports_doc/AUTOMATIC INFORMATION EXTRACTION_FROM TEXT DOCUMENTS.pdf'],\n",
       "       ['./reports_doc/Automatic Notification Bot Using Web JMining for Event Analysis_72.pdf'],\n",
       "       ['./reports_doc/Automatic SQL Query Formation using NLP.pdf'],\n",
       "       ['./reports_doc/Banking_Recommendation_system.pdf'],\n",
       "       ['./reports_doc/BE49.pdf'],\n",
       "       ['./reports_doc/BEAM-DIGITIZING_CONTENT_IN_ADVERTISING.pdf'],\n",
       "       ['./reports_doc/BEREPORT.pdf'],\n",
       "       ['./reports_doc/BE_PROJECT_REPORT_FORMAT_TERM_II_LATEX_FILE_68.pdf'],\n",
       "       ['./reports_doc/BE_report_final.pdf'],\n",
       "       ['./reports_doc/BE_report_final3.pdf'],\n",
       "       ['./reports_doc/Biomedical Tumor Segmentation.pdf'],\n",
       "       ['./reports_doc/Biometric Based RTO License Checking_And Fine system.pdf'],\n",
       "       ['./reports_doc/BUSINESS ANALYTICS DASHBOARD_9.pdf'],\n",
       "       ['./reports_doc/Canvazify _ Collaboration SAAS platform on mobile_devices_72.pdf'],\n",
       "       ['./reports_doc/Chatbot for automated customer support.pdf'],\n",
       "       ['./reports_doc/Classification of abstract images using machine learning_66.pdf'],\n",
       "       ['./reports_doc/CLASSIFYING USERS AND IDENTIFYING_USER INTERESTS BASED ON SEMANTIC AND_CONTEXTUAL ANALYSIS.pdf'],\n",
       "       ['./reports_doc/Cloud based Magixphone and web gaming platform_38.pdf'],\n",
       "       ['./reports_doc/CODE IMPACT ANALYZER.pdf'],\n",
       "       ['./reports_doc/COGNITIVE INTELLIGENCE AND_KNOWLEDGE BASED CLASSIFICATION_AND REASONING.pdf'],\n",
       "       ['./reports_doc/COMPLIANCE ENGINE FOR DATABASES.pdf'],\n",
       "       ['./reports_doc/COMPREHENSIVE DEVELOPER ASSISTANT_(CODA).pdf'],\n",
       "       ['./reports_doc/Conditional GIF Generation Using GANS.pdf'],\n",
       "       ['./reports_doc/Connected_Component_Labelling_45.pdf'],\n",
       "       ['./reports_doc/CONSTRUCT 3D COMPUTER OBJECTS_FROM MULTIPLE VIEWS.pdf'],\n",
       "       ['./reports_doc/Content Based Image Retrieval of T-Shirts_55.pdf'],\n",
       "       ['./reports_doc/Context aware book recommendation system_27.pdf'],\n",
       "       ['./reports_doc/CONTEXTUAL ANALYSIS BASED ON_SUMMARIZED TEXT OF CONVERSATION.pdf'],\n",
       "       ['./reports_doc/CONTEXTUAL RECOMMENDATION AND_SUMMARIZATION OF ENTERPRISE_COMMUNICATION.pdf'],\n",
       "       ['./reports_doc/CONVERSION OF MARATHI TEXT TO_BRAILLE USING OPTICAL CHARACTER_RECOGNITION.pdf'],\n",
       "       ['./reports_doc/CONVERSION OF VIDEO CONTAINING SIGN_LANGUAGE TO TEXTUAL FORMAT.pdf'],\n",
       "       ['./reports_doc/Creating server on android phone using NanoHTTPD.pdf'],\n",
       "       ['./reports_doc/CREDIT CARD FRAUD DETECTION_SYSTEM.pdf'],\n",
       "       ['./reports_doc/Crop Production Estimation.pdf'],\n",
       "       ['./reports_doc/Crop yield estimation using Data mining techniques..pdf'],\n",
       "       ['./reports_doc/Crop_disease_detection.pdf'],\n",
       "       ['./reports_doc/CustomerDecisionSupportSystem_39.pdf'],\n",
       "       ['./reports_doc/DEEP LEARNING IN MEDICAL IMAGE_ANALYSIS.pdf'],\n",
       "       ['./reports_doc/DEMAND FORECASTING FOR INVENTORY_OPTIMIZATION.pdf'],\n",
       "       ['./reports_doc/DESIGN FRAMEWORK FOR_E-COMMERCE APPLICATION_37.pdf'],\n",
       "       ['./reports_doc/DETECTING CERVICAL ABNORMALITIES_USING MACHINE LEARNING.pdf'],\n",
       "       ['./reports_doc/DETECTING STUDENT___S ENGAGEMENT IN_LECTURE USING DEEP LEARNING.pdf'],\n",
       "       ['./reports_doc/Detection Of Diabetic Retinopathy Detection Using Computer Vision.pdf'],\n",
       "       ['./reports_doc/Developing Cross Platform App For Farmers For Suggesting Agricultural Products.pdf'],\n",
       "       ['./reports_doc/Development of Intelligent automated indoor_navigator and assistance system.pdf'],\n",
       "       ['./reports_doc/DEVELO~1.PDF'],\n",
       "       ['./reports_doc/Differentiating Between Attacker And Legitimate VM.pdf'],\n",
       "       ['./reports_doc/Digital_College.pdf'],\n",
       "       ['./reports_doc/DIMENSION EXTRACTION OF AN OBJECT_USING MACHINE VISION.pdf'],\n",
       "       ['./reports_doc/DIRECT TRANSFER FROM DATA DEVICES_56.pdf'],\n",
       "       ['./reports_doc/Disease Detection using ayurvedic pulse diagnosis.pdf'],\n",
       "       ['./reports_doc/Disease Diagnosis Using Nadi Parikshan_44.pdf'],\n",
       "       ['./reports_doc/Disease prediction using machine learning_55.pdf'],\n",
       "       ['./reports_doc/Distracted_Driver_Detection_ Using_Deep_Learning.pdf'],\n",
       "       ['./reports_doc/Download File.pdf'],\n",
       "       ['./reports_doc/DRONE DROID_58.pdf'],\n",
       "       ['./reports_doc/Dynamic Forms - UI UX.pdf'],\n",
       "       ['./reports_doc/Dynamic load balancing of web servers.pdf'],\n",
       "       ['./reports_doc/DynamicFoodPricing.pdf'],\n",
       "       ['./reports_doc/E-Care-Android Application For Health Monitoring_73.pdf'],\n",
       "       ['./reports_doc/E-GLOVE_ A HEALTH MONITORING_SYSTEM USING WEARABLE COMPUTING,_IoT AND DATA MINING.pdf'],\n",
       "       ['./reports_doc/ECG MONITORING FOR DRIVER ANALYSIS_17.pdf'],\n",
       "       ['./reports_doc/EFFICIENT DIABETES RISK ASSESSMENT IN_PATIENTS USING MACHINE LEARNING_ALGORITHMS.pdf'],\n",
       "       ['./reports_doc/ELECTION RESULT PREDICTION USING_SENTIMENTAL ANALYSIS ON TWITTER DATA.pdf'],\n",
       "       ['./reports_doc/Emergency Blood Requirement system_48.pdf'],\n",
       "       ['./reports_doc/EMOTION BASED MUSIC PLAYER.pdf'],\n",
       "       ['./reports_doc/ENHANCED FRAMEWORK FOR TRUE_SIGHT NETWORK AUTOMATION.pdf'],\n",
       "       ['./reports_doc/ERP SYSTEM FOR A FLEXIBLE TRANSPORTATION_SERVICE_30.pdf'],\n",
       "       ['./reports_doc/ETHEREUM BASED BLOCKCHAIN_IMPLEMENTATION OF PEER REVIEW_SYSTEM.pdf'],\n",
       "       ['./reports_doc/Event_Driven_Process_Orchestration_59.pdf'],\n",
       "       ['./reports_doc/Exploring alternative approaches to control forwarding path of packets in virtual networks_4.pdf'],\n",
       "       ['./reports_doc/Expressive English Text-to-Speech Synthesis System_7.pdf'],\n",
       "       ['./reports_doc/Face Recognition in Videos.pdf'],\n",
       "       ['./reports_doc/FASHION RECOMMENDATION AND_DESIGN USING MACHINE LEARNING.pdf'],\n",
       "       ['./reports_doc/Fast and efficient compression method for real time systems_41.pdf'],\n",
       "       ['./reports_doc/final BE report.pdf'],\n",
       "       ['./reports_doc/final BE report1.pdf'],\n",
       "       ['./reports_doc/final Be Report2.pdf'],\n",
       "       ['./reports_doc/Final full report.pdf'],\n",
       "       ['./reports_doc/Final gts.pdf'],\n",
       "       ['./reports_doc/Final Report(Group No 95).pdf'],\n",
       "       ['./reports_doc/FOOD QUALITY INSPECTION USING_COMPUTER VISION.pdf'],\n",
       "       ['./reports_doc/Galaxy Morphology Prediction using Convolutional_Neural Networks_64.pdf'],\n",
       "       ['./reports_doc/Generic Replicator Framework.pdf'],\n",
       "       ['./reports_doc/Generic SDK for zephyr OS to connect AWS IoT cloud.pdf'],\n",
       "       ['./reports_doc/Generic User Activity Analysis And Prediction_34.pdf'],\n",
       "       ['./reports_doc/Generic_Traffic_Shaper_19.pdf'],\n",
       "       ['./reports_doc/GEO-ENABLED PROPERTY TAX.pdf'],\n",
       "       ['./reports_doc/GESTURE AWARE INTERACTIVE_PRESENTATION SYSTEM.pdf'],\n",
       "       ['./reports_doc/GPS SUPPORTED CITY BUS TRACKING AND TRIP PLANNER_53.pdf'],\n",
       "       ['./reports_doc/GPU Framework Utilities Group_id_80.pdf'],\n",
       "       ['./reports_doc/Group 12 Final Report.pdf'],\n",
       "       ['./reports_doc/Group 40 PICT BE E&TC - Video Game Programming (1).pdf'],\n",
       "       ['./reports_doc/Group 42.pdf'],\n",
       "       ['./reports_doc/Group 81.pdf'],\n",
       "       ['./reports_doc/Group 88.pdf'],\n",
       "       ['./reports_doc/GROUP NO 83 (1).pdf'],\n",
       "       ['./reports_doc/Group no 87.pdf'],\n",
       "       ['./reports_doc/GROUP no 94 _ CAN PROTOCOL_.pdf'],\n",
       "       ['./reports_doc/group no. 84.pdf'],\n",
       "       ['./reports_doc/group no.55.pdf'],\n",
       "       ['./reports_doc/GROUP NO.69_SIGN_LANGUAGE_REPORT.pdf'],\n",
       "       ['./reports_doc/Group no.82.pdf'],\n",
       "       ['./reports_doc/Group no_36_BE Final report.pdf'],\n",
       "       ['./reports_doc/Group.No.7_InternetTvGadget_report.pdf'],\n",
       "       ['./reports_doc/Group.No_01.pdf'],\n",
       "       ['./reports_doc/Group.No_02.pdf'],\n",
       "       ['./reports_doc/Group.No_03.pdf'],\n",
       "       ['./reports_doc/Group.No_05.pdf'],\n",
       "       ['./reports_doc/Group.No_06.pdf'],\n",
       "       ['./reports_doc/Group.No_09.pdf'],\n",
       "       ['./reports_doc/Group.No_10.pdf'],\n",
       "       ['./reports_doc/Group.No_100.pdf'],\n",
       "       ['./reports_doc/Group.No_101.pdf'],\n",
       "       ['./reports_doc/Group.No_103.pdf'],\n",
       "       ['./reports_doc/Group.No_104.pdf'],\n",
       "       ['./reports_doc/Group.No_105.pdf'],\n",
       "       ['./reports_doc/Group.No_106.pdf'],\n",
       "       ['./reports_doc/Group.No_107.pdf'],\n",
       "       ['./reports_doc/Group.No_11.pdf'],\n",
       "       ['./reports_doc/Group.No_110.pdf'],\n",
       "       ['./reports_doc/Group.No_14.pdf'],\n",
       "       ['./reports_doc/Group.No_15.pdf'],\n",
       "       ['./reports_doc/Group.No_16.pdf'],\n",
       "       ['./reports_doc/Group.No_17.pdf'],\n",
       "       ['./reports_doc/Group.No_18.pdf'],\n",
       "       ['./reports_doc/Group.No_19.pdf'],\n",
       "       ['./reports_doc/Group.No_20.pdf'],\n",
       "       ['./reports_doc/Group.No_21.pdf'],\n",
       "       ['./reports_doc/Group.No_22.pdf'],\n",
       "       ['./reports_doc/Group.No_23.pdf'],\n",
       "       ['./reports_doc/Group.No_24.pdf'],\n",
       "       ['./reports_doc/Group.No_25.pdf'],\n",
       "       ['./reports_doc/Group.No_26.pdf'],\n",
       "       ['./reports_doc/Group.No_27.pdf'],\n",
       "       ['./reports_doc/Group.No_28.pdf'],\n",
       "       ['./reports_doc/Group.No_29.pdf'],\n",
       "       ['./reports_doc/Group.No_30.pdf'],\n",
       "       ['./reports_doc/Group.No_32.pdf'],\n",
       "       ['./reports_doc/Group.No_33.pdf'],\n",
       "       ['./reports_doc/Group.No_34.pdf'],\n",
       "       ['./reports_doc/Group.No_35.pdf'],\n",
       "       ['./reports_doc/Group.No_36.pdf'],\n",
       "       ['./reports_doc/Group.No_37.pdf'],\n",
       "       ['./reports_doc/Group.No_38.pdf'],\n",
       "       ['./reports_doc/Group.No_39.pdf'],\n",
       "       ['./reports_doc/Group.No_40.pdf'],\n",
       "       ['./reports_doc/Group.No_42.pdf'],\n",
       "       ['./reports_doc/Group.No_43.pdf'],\n",
       "       ['./reports_doc/Group.No_44.pdf'],\n",
       "       ['./reports_doc/Group.No_45.pdf'],\n",
       "       ['./reports_doc/Group.No_46.pdf'],\n",
       "       ['./reports_doc/Group.No_47.pdf'],\n",
       "       ['./reports_doc/Group.No_49.pdf'],\n",
       "       ['./reports_doc/Group.No_50.pdf'],\n",
       "       ['./reports_doc/Group.No_51.pdf'],\n",
       "       ['./reports_doc/Group.No_53.pdf'],\n",
       "       ['./reports_doc/Group.No_56.pdf'],\n",
       "       ['./reports_doc/Group.No_57.pdf'],\n",
       "       ['./reports_doc/Group.No_58.pdf'],\n",
       "       ['./reports_doc/Group.No_59.PDF'],\n",
       "       ['./reports_doc/Group.No_60.pdf'],\n",
       "       ['./reports_doc/Group.No_61.pdf'],\n",
       "       ['./reports_doc/Group.No_62.pdf'],\n",
       "       ['./reports_doc/Group.No_63.pdf'],\n",
       "       ['./reports_doc/Group.No_64.pdf'],\n",
       "       ['./reports_doc/Group.No_65.pdf'],\n",
       "       ['./reports_doc/Group.No_66.pdf'],\n",
       "       ['./reports_doc/Group.No_67.pdf'],\n",
       "       ['./reports_doc/Group.No_68.pdf'],\n",
       "       ['./reports_doc/Group.No_69.pdf'],\n",
       "       ['./reports_doc/Group.No_70.pdf'],\n",
       "       ['./reports_doc/Group.No_71.pdf'],\n",
       "       ['./reports_doc/Group.No_72.pdf'],\n",
       "       ['./reports_doc/Group.No_73.pdf'],\n",
       "       ['./reports_doc/Group.No_74.pdf'],\n",
       "       ['./reports_doc/Group.No_75.pdf'],\n",
       "       ['./reports_doc/Group.No_76.pdf'],\n",
       "       ['./reports_doc/Group.No_77.pdf'],\n",
       "       ['./reports_doc/Group.No_81.pdf'],\n",
       "       ['./reports_doc/Group.No_83.pdf'],\n",
       "       ['./reports_doc/Group.No_85.pdf'],\n",
       "       ['./reports_doc/Group.No_86.pdf'],\n",
       "       ['./reports_doc/Group.No_89.pdf'],\n",
       "       ['./reports_doc/Group.No_90.pdf'],\n",
       "       ['./reports_doc/Group.No_91.pdf'],\n",
       "       ['./reports_doc/Group.No_93.pdf'],\n",
       "       ['./reports_doc/Group.No_94.pdf'],\n",
       "       ['./reports_doc/Group.No_95.pdf'],\n",
       "       ['./reports_doc/Group.No_98.pdf'],\n",
       "       ['./reports_doc/Group.No_99.pdf'],\n",
       "       ['./reports_doc/group32.pdf'],\n",
       "       ['./reports_doc/Hand Gesture Recognition System using Microsoft Kinect_for a better Human Computer Interaction_60.pdf'],\n",
       "       ['./reports_doc/HATE SPEECH DETECTION ON TWITTER_USING SENTIMENT ANALYSIS.pdf'],\n",
       "       ['./reports_doc/HIRING DECISION SUPPORT SYSTEM_13.pdf'],\n",
       "       ['./reports_doc/HPC clodburst using docker_42.pdf'],\n",
       "       ['./reports_doc/Human Action Recognition System.pdf'],\n",
       "       ['./reports_doc/Human detection and gender classification using Machine Learning based approach_10.pdf'],\n",
       "       ['./reports_doc/Image Generation in the Style of Artists Using Deep Learning_65.pdf'],\n",
       "       ['./reports_doc/IMAGE GENERATION OF HUMAN FACES FROM_TEXT DESCRIPTION USING GENERATIVE_ADVERSARIAL NETWORKS.pdf'],\n",
       "       ['./reports_doc/Image_Search_Report25.pdf'],\n",
       "       ['./reports_doc/implementation of HPCG using MPI and GPUs_7.pdf'],\n",
       "       ['./reports_doc/Implementation of QoE-QoS in SDN_52.pdf'],\n",
       "       ['./reports_doc/Improving performance of Virtual Machines by Virtio Bridge Bypass for PCI devices_69.pdf'],\n",
       "       ['./reports_doc/Indoor Location based Services using Bluetooth Low Energy_47.pdf'],\n",
       "       ['./reports_doc/Indoor Positioning system with BLE beacons using voronoi mapping.pdf'],\n",
       "       ['./reports_doc/INSIDER THREAT DETECTION AND_ADAPTIVE TWO FACTOR_AUTHENTICATION SYSTEM FOR CLOUD_COMPUTING BY ANALYZING SYSTEM_LOGS.pdf'],\n",
       "       ['./reports_doc/Integrated File Viewer_5.pdf'],\n",
       "       ['./reports_doc/Integration of DeepLearning4j with Apache Apex framework_60.pdf'],\n",
       "       ['./reports_doc/INTELLIGENT CYBER SECURITY SYSTEM.pdf'],\n",
       "       ['./reports_doc/INTELLIGENT FINANCIAL PORTFOLIO.pdf'],\n",
       "       ['./reports_doc/Intelligent Holiday Planner.pdf'],\n",
       "       ['./reports_doc/Intelligent Recruitment Assistant_33.pdf'],\n",
       "       ['./reports_doc/INTELLIGENT TOLL AUTOMATION SYSTEM_50.pdf'],\n",
       "       ['./reports_doc/Intelligent transportation system_71.pdf'],\n",
       "       ['./reports_doc/IntelligentAssistant.pdf'],\n",
       "       ['./reports_doc/Interactive ChatBot_5.pdf'],\n",
       "       ['./reports_doc/INTERACTIVE PHYSICAL EXPERIENCES FOR MICRO-LOCATION USING BEACON TECHNOLOGY_16.pdf'],\n",
       "       ['./reports_doc/Interactive Store System_12.pdf'],\n",
       "       ['./reports_doc/Interactive User Behaviour Analysis and_Recommendation System Using Web Log_Mining_15.pdf'],\n",
       "       ['./reports_doc/IOT BASED BIKE BLACK BOX.pdf'],\n",
       "       ['./reports_doc/IOT BASED HEALTH ALLIANCE HELP DESK_41.pdf'],\n",
       "       ['./reports_doc/lazynotes_54.pdf'],\n",
       "       ['./reports_doc/LEADER ELECTION ALGORITHM FOR WIRELESS_NETWORK_34.pdf'],\n",
       "       ['./reports_doc/Live Backup of NFS using Network_Intelligence_44.pdf'],\n",
       "       ['./reports_doc/Live process migration in mobil e env_63.pdf'],\n",
       "       ['./reports_doc/Logistic Solutions for Multiple Scenarios using Wireless_Sensor Network_21.pdf'],\n",
       "       ['./reports_doc/Log_structured_segment_cleaning_policy_49.pdf'],\n",
       "       ['./reports_doc/M2M Communication_2.pdf'],\n",
       "       ['./reports_doc/MACHINE LEARNING AGENT FOR GAME_DEVELOPMENT.pdf'],\n",
       "       ['./reports_doc/Machine Learning Based Network Traffic Classification.pdf'],\n",
       "       ['./reports_doc/MANAGING LAND OWNERSHIP USING_BLOCKCHAIN.pdf'],\n",
       "       ['./reports_doc/Marathi translation using wsd concept_36.pdf'],\n",
       "       ['./reports_doc/META DATA AND CONTENT BASED YOUTUBE_VIDEO TAG GENERATION.pdf'],\n",
       "       ['./reports_doc/METAAPP A FRAMEWORK FOR INCOGNITO_MODE OF SMARTPHONE APPLICATIONS_25.pdf'],\n",
       "       ['./reports_doc/Metering and Throttling for Remedy_Applications_76.pdf'],\n",
       "       ['./reports_doc/MICRO VIDEO RECOMMENDATION_SYSTEM FOR CONTENT WRITER.pdf'],\n",
       "       ['./reports_doc/Multi-document Abstractive Summarization_1.pdf'],\n",
       "       ['./reports_doc/Multikeyword ranked search over encrypted data.pdf'],\n",
       "       ['./reports_doc/Music Discovery Using Content Based Paradigms.pdf'],\n",
       "       ['./reports_doc/N-SCALAR.pdf'],\n",
       "       ['./reports_doc/Natural Language Description of Videos_46.pdf'],\n",
       "       ['./reports_doc/negative news no more_42.pdf'],\n",
       "       ['./reports_doc/NETWORK EDGE COMPUTING DEVICE_35.pdf'],\n",
       "       ['./reports_doc/NETWORK MONITOR THROUGH ARM PROCESSOR_22.pdf'],\n",
       "       ['./reports_doc/NETWORK MONITORING TOOL_45.pdf'],\n",
       "       ['./reports_doc/NextGen_Router_17.pdf'],\n",
       "       ['./reports_doc/Nfc-Health-Management_14.pdf'],\n",
       "       ['./reports_doc/NOBODY PARKS HERE.pdf'],\n",
       "       ['./reports_doc/NOTIFICATION SERVICE FOR CMDB.pdf'],\n",
       "       ['./reports_doc/Novice Tourist Recommendation System.pdf'],\n",
       "       ['./reports_doc/Object Based Visual Sentiment Analysis.pdf'],\n",
       "       ['./reports_doc/OBSTACLE AVOIDANCE USING_REINFORCEMENT LEARNING.pdf'],\n",
       "       ['./reports_doc/Ocr Pre-Processing.pdf'],\n",
       "       ['./reports_doc/ONLINE REVIEW ANALYSIS.pdf'],\n",
       "       ['./reports_doc/OpenAir Interface.pdf'],\n",
       "       ['./reports_doc/OpenStack Resource Management Tool_ 33.pdf'],\n",
       "       ['./reports_doc/OPTICAL COHERENCE_TOMOGRAPHY(OCT) REPORT_GENERATOR.pdf'],\n",
       "       ['./reports_doc/Optimal Path-Finding in Virtual Reality_62.pdf'],\n",
       "       ['./reports_doc/OptimisedDeliveryManagementSystemForE-Commerce_40.pdf'],\n",
       "       ['./reports_doc/packet drop reduction by flow monitoring in sdn-nfv architecture group_id_24.pdf'],\n",
       "       ['./reports_doc/Parallelization and Optimization of Image processing software using GPGPU with Cuda-c_70.pdf'],\n",
       "       ['./reports_doc/PARALLELIZATION OF REGION GROWING IMAGE SEGMENTATION AL-_GORITHM FOR COLOUR IMAGE_40.pdf'],\n",
       "       ['./reports_doc/PATTERN DETECTION AND_RECOGNITION SYSTEM FOR VEHICLES.pdf'],\n",
       "       ['./reports_doc/PATTERN RECOGNITION IN IMAGES_58.pdf'],\n",
       "       ['./reports_doc/pattern_detection_and_recognition_using_deep_learning_group_id_65.pdf'],\n",
       "       ['./reports_doc/Personality Prediction System.pdf'],\n",
       "       ['./reports_doc/PERSONALITY PREDICTION SYSTEM_USING TWITTER DATA.pdf'],\n",
       "       ['./reports_doc/PHYSICAL WEB WITH VENDING MACHINE_77.pdf'],\n",
       "       ['./reports_doc/PIXTALK_ PICTURE EXCHANGE COMMUNICATION_FOR AUTISM SPECTRUM DISORDER IN CHILDREN_USING MACHINE LEARNING.pdf'],\n",
       "       ['./reports_doc/Plant Disease Detection Using Deep Learning Techniques.pdf'],\n",
       "       ['./reports_doc/PLANT LEAF DISEASE IDENTIFICATION_39.pdf'],\n",
       "       ['./reports_doc/PLATFORM FOR BUILDING ENTERPRISE_SOLUTIONS (WORKFLOW MANAGER).pdf'],\n",
       "       ['./reports_doc/POLICE CONTROL ROOM RUNTIME_ANALYSIS.pdf'],\n",
       "       ['./reports_doc/Porting Zephyr OS.pdf'],\n",
       "       ['./reports_doc/Predicting_MyersBriggs_Personality_type.pdf'],\n",
       "       ['./reports_doc/Predictive data analysis using recommendation techniques_and machine learning algorithms_10.pdf'],\n",
       "       ['./reports_doc/Price Elasticity and Optimization_6.pdf'],\n",
       "       ['./reports_doc/Privacy Preserving Multi-Keyword Ranked_Search Over Encrypted Cloud Data_56.pdf'],\n",
       "       ['./reports_doc/Product Attribute Extraction And Comparator_26.pdf'],\n",
       "       ['./reports_doc/Project Mycroft AI.pdf'],\n",
       "       ['./reports_doc/Project Report Group No. 61.pdf'],\n",
       "       ['./reports_doc/project report grp. no. 73.pdf'],\n",
       "       ['./reports_doc/Project_Report_group51.pdf'],\n",
       "       ['./reports_doc/PROVIDE CHATBOT FUNCTIONALITY IN BMC REMEDY AR SYSTEM PLATFORM.pdf'],\n",
       "       ['./reports_doc/QA GENERATION APPLICATION USING NLP.pdf'],\n",
       "       ['./reports_doc/QUERY BASED CAR MAKE AND MODEL_RECOGNITION SYSTEM USING DEEP_LEARNING.pdf'],\n",
       "       ['./reports_doc/Question Pair Similarity and Text Summarization.pdf'],\n",
       "       ['./reports_doc/Quick Learning Tool.pdf'],\n",
       "       ['./reports_doc/RE-ADMISSION RISK PREDICTION FOR_HEART ATTACK.pdf'],\n",
       "       ['./reports_doc/Re-Sequencing of Associated News Articles in a Feed Using_Sentiment Analysis_28.pdf'],\n",
       "       ['./reports_doc/Real Time Image Description using Deep Learning.pdf'],\n",
       "       ['./reports_doc/Real Time Web Analytics_59.pdf'],\n",
       "       ['./reports_doc/Real Time Web Based Supervisory Control and Data Acquisition_32.pdf'],\n",
       "       ['./reports_doc/RealTimeVehicleTrackingSystem_groupid_11.pdf'],\n",
       "       ['./reports_doc/REBRACE _ AN INTELLIGENT SOLUTION FOR_SUPPORT HELPDESK AUTOMATION_20.pdf'],\n",
       "       ['./reports_doc/Recommendation of crop and yield prediction_based on Multiple Parameters using Artificial_Neural Network.pdf'],\n",
       "       ['./reports_doc/RECOMMENDATION USING CONTENT_BASED IMAGE RETRIEVAL.pdf'],\n",
       "       ['./reports_doc/REPORT _GROUP_NO_45.pdf'],\n",
       "       ['./reports_doc/Report-Group-6.pdf'],\n",
       "       ['./reports_doc/Report-Group-71.pdf'],\n",
       "       ['./reports_doc/report-groupno-47.pdf'],\n",
       "       ['./reports_doc/Report_Final_zip_9.pdf'],\n",
       "       ['./reports_doc/Resume analysis through machine learning_43.pdf'],\n",
       "       ['./reports_doc/Retail_Analytics_61.pdf'],\n",
       "       ['./reports_doc/Retroactive Funnel Analysis_53.pdf'],\n",
       "       ['./reports_doc/RMI_Based_Custom_Adapter_8.pdf'],\n",
       "       ['./reports_doc/Robust Speaker Recognition System for  online authentication and real-time verification.pdf'],\n",
       "       ['./reports_doc/RouterReinforcementwithOpenWrtandCloud_3.pdf'],\n",
       "       ['./reports_doc/SALES ORDER PROCESSING USING SAP_52.pdf'],\n",
       "       ['./reports_doc/SCRUTINIZING BEHAVIOUR OF VM COMMUNICATION.pdf'],\n",
       "       ['./reports_doc/Security Enhancement in Vehicular System with GPS and Motion Detection_76.pdf'],\n",
       "       ['./reports_doc/SECURITY IN IOT_23.pdf'],\n",
       "       ['./reports_doc/Sensor and reservation based interconnected parking system_36.pdf'],\n",
       "       ['./reports_doc/SENTIMENT ANALYSIS ON TWITTER JDATA_74.pdf'],\n",
       "       ['./reports_doc/SIGN LANGUAGE RECOGNITION.pdf'],\n",
       "       ['./reports_doc/SIMULATOR FOR BMC BLADELOGIC SERVER_AUTOMATION_35.pdf'],\n",
       "       ['./reports_doc/SISA_ SECURING IMAGES USING_SELECTIVE ALTERATION.pdf'],\n",
       "       ['./reports_doc/SMART BUSINESS CONTINUITY APPLICATION.pdf'],\n",
       "       ['./reports_doc/SMART CITY GARBAGE CAN_16.pdf'],\n",
       "       ['./reports_doc/SMART ROOM FOR ELDERLY PEOPLE_6.pdf'],\n",
       "       ['./reports_doc/Smart Room For Elderly Person_6.pdf'],\n",
       "       ['./reports_doc/SMART STUDY GUIDE USING MACHINE_LEARNING.pdf'],\n",
       "       ['./reports_doc/Smart Surveillance System_71.pdf'],\n",
       "       ['./reports_doc/Smart virtual Assistant_31.pdf'],\n",
       "       ['./reports_doc/Smart_Surveillance System_49.pdf'],\n",
       "       ['./reports_doc/Social Impact Poll Generation System from tweets_50.pdf'],\n",
       "       ['./reports_doc/SOFTWARE GPU UTILITIES_32.pdf'],\n",
       "       ['./reports_doc/Speech and Speaker Recognition_for Home Security System.pdf'],\n",
       "       ['./reports_doc/Stock Prediction Using Technical Analysis.pdf'],\n",
       "       ['./reports_doc/SUPPLY CHAIN MANAGEMENT FOR AIRLINES_USING SALESFORCE(CLOUD)_43.pdf'],\n",
       "       ['./reports_doc/SUPPLY CHAIN MANAGEMENT FOR_AUTOMOBILE INDUSTRY.pdf'],\n",
       "       ['./reports_doc/Suspect Analysis using Machine Learning.pdf'],\n",
       "       ['./reports_doc/System To Guide Visually Impaired People_47.pdf'],\n",
       "       ['./reports_doc/TAG SCANNER CUM PRICE_COMPARISION FOR FASHION_PRODUCTS_13.pdf'],\n",
       "       ['./reports_doc/Telephysiotherapy_20.pdf'],\n",
       "       ['./reports_doc/Text Analysis for Indian Literature.pdf'],\n",
       "       ['./reports_doc/Text Mining Algorithms For Assessment of Answersheets.pdf'],\n",
       "       ['./reports_doc/Text summarization using extractive approach based on latent semantic analysis_04.pdf'],\n",
       "       ['./reports_doc/TEXT SUMMARIZATION_USING EXTRACTIVE APPROACH BASED ON LATENT SEMANTIC ANALYSIS_18.pdf'],\n",
       "       ['./reports_doc/Text to Image Generation.pdf'],\n",
       "       ['./reports_doc/TEXT TO IMAGE SYNTHESIS IN FASHION.pdf'],\n",
       "       ['./reports_doc/TRANSACTION MONITORING IN PUBLIC_WELFARE PROJECTS USING SMART_CONTRACTS.pdf'],\n",
       "       ['./reports_doc/Transparent Distributed Computing for CUDA_24.pdf'],\n",
       "       ['./reports_doc/UCAN-Unified Communication for Assisting Novice.pdf'],\n",
       "       ['./reports_doc/USE OF COGNITIVE TECHNOLOGIES TO AID_DECISION MAKING IN THE INDIAN_JUDICIARY.pdf'],\n",
       "       ['./reports_doc/User Application for Shop Floor Automation using Data Analytics_14.pdf'],\n",
       "       ['./reports_doc/vCom-Volunteer Computing for High Performance_26.pdf'],\n",
       "       ['./reports_doc/VEHICULAR SECURITY SYSTEM_3.pdf'],\n",
       "       ['./reports_doc/VHDX File Recovery_54.pdf'],\n",
       "       ['./reports_doc/VIDEO BASED TRAFFIC CONTROL SYSTEM_77.pdf'],\n",
       "       ['./reports_doc/Video Summarization using clustering techniques.pdf'],\n",
       "       ['./reports_doc/Video Summarization_31.pdf'],\n",
       "       ['./reports_doc/Virtual Arts Gallery_75.pdf'],\n",
       "       ['./reports_doc/Virtual Lab for Electronics_29.pdf'],\n",
       "       ['./reports_doc/VIRTUAL MACHINE COMMUNICATION_ANALYSIS.pdf'],\n",
       "       ['./reports_doc/Visual Question Answering Using Deep_Learning_30.pdf'],\n",
       "       ['./reports_doc/Visualization As A Sevice_11.pdf'],\n",
       "       ['./reports_doc/VISUALLY IMPAIRED ASSISTANT SYSTEM.pdf'],\n",
       "       ['./reports_doc/Volunteer Automation For NGO_79.pdf'],\n",
       "       ['./reports_doc/Web_Vulnerability Scanner.pdf'],\n",
       "       ['./reports_doc/___BREAST CANCER DETECTION AND_DIAGNOSIS USING MACHINE LEARNING___.pdf'],\n",
       "       ['./reports/01_Final_Report.pdf'],\n",
       "       ['./reports/02_final_report .pdf'],\n",
       "       ['./reports/03_final_report.pdf'],\n",
       "       ['./reports/04_final_report.pdf'],\n",
       "       ['./reports/05_Final_Report.pdf'],\n",
       "       ['./reports/08_final_report.pdf'],\n",
       "       ['./reports/10_final_report.pdf'],\n",
       "       ['./reports/11_final_report.pdf'],\n",
       "       ['./reports/12_final_report_major_proj_report.pdf'],\n",
       "       ['./reports/13_final_report.pdf'],\n",
       "       ['./reports/14 _final_report.pdf'],\n",
       "       ['./reports/15_final_report.pdf'],\n",
       "       ['./reports/16_final_report.pdf'],\n",
       "       ['./reports/17_final_report.pdf'],\n",
       "       ['./reports/18_final_report.pdf'],\n",
       "       ['./reports/19_final_report.pdf'],\n",
       "       ['./reports/20_final_report.pdf'],\n",
       "       ['./reports/21_final_report.pdf'],\n",
       "       ['./reports/24-Tierfs.pdf'],\n",
       "       ['./reports/25_final_report.pdf'],\n",
       "       ['./reports/26-05-2015-group id 38.pdf'],\n",
       "       ['./reports/26_final_report.pdf'],\n",
       "       ['./reports/27_Final-Report(v1.4)HSCLAS-.pdf'],\n",
       "       ['./reports/28_final_Report.pdf'],\n",
       "       ['./reports/29_final_report.pdf'],\n",
       "       ['./reports/30_final_report.pdf'],\n",
       "       ['./reports/31_final_report.pdf'],\n",
       "       ['./reports/32_final_report.pdf'],\n",
       "       ['./reports/33_final_report.pdf'],\n",
       "       ['./reports/34_Final_Report.pdf'],\n",
       "       ['./reports/35 final report.pdf'],\n",
       "       ['./reports/36_final_report.pdf'],\n",
       "       ['./reports/37_finalReport_Revised.pdf'],\n",
       "       ['./reports/7_final_report.pdf'],\n",
       "       ['./reports/9_final_report.pdf.pdf'],\n",
       "       ['./reports/AUDIO SIGNAL PROCESSING FOR MUSIC ANALYSIS.pdf'],\n",
       "       ['./reports/Automated_XFS_backup_application.pdf'],\n",
       "       ['./reports/AutoTechQ.pdf'],\n",
       "       ['./reports/BE Project Report - 35_QuadCores.pdf'],\n",
       "       ['./reports/BE Project Report - Group ID 28.pdf'],\n",
       "       ['./reports/BE Project Report_1.pdf'],\n",
       "       ['./reports/BE Project Report_10 .pdf'],\n",
       "       ['./reports/BE Project Report_12.pdf'],\n",
       "       ['./reports/BE Project Report_14.pdf'],\n",
       "       ['./reports/BE Project Report_17.pdf'],\n",
       "       ['./reports/BE Project Report_18.pdf'],\n",
       "       ['./reports/BE Project Report_19.pdf'],\n",
       "       ['./reports/BE Project Report_2.pdf'],\n",
       "       ['./reports/BE Project Report_20.pdf'],\n",
       "       ['./reports/BE Project Report_21.pdf'],\n",
       "       ['./reports/BE Project Report_22.pdf'],\n",
       "       ['./reports/BE Project Report_23.pdf'],\n",
       "       ['./reports/BE Project Report_24.pdf'],\n",
       "       ['./reports/BE Project Report_26.pdf'],\n",
       "       ['./reports/BE Project Report_27.pdf'],\n",
       "       ['./reports/BE Project Report_28.pdf'],\n",
       "       ['./reports/BE Project Report_29.pdf'],\n",
       "       ['./reports/BE Project Report_31.pdf'],\n",
       "       ['./reports/BE Project Report_33.pdf'],\n",
       "       ['./reports/BE Project Report_34.pdf'],\n",
       "       ['./reports/BE Project Report_36.pdf'],\n",
       "       ['./reports/BE Project Report_38.pdf'],\n",
       "       ['./reports/BE Project Report_5.pdf'],\n",
       "       ['./reports/BE Project Report_6.pdf'],\n",
       "       ['./reports/BE Project Report_7.pdf'],\n",
       "       ['./reports/BE Project Report_8.pdf'],\n",
       "       ['./reports/BE_Project_Final_Report_31_Latex_final.pdf'],\n",
       "       ['./reports/combinepdf.pdf'],\n",
       "       ['./reports/DecentralizedFileSharing_FinalReport.pdf'],\n",
       "       ['./reports/Final Project Report.pdf'],\n",
       "       ['./reports/FINAL PROJECT REPORT_PDF.pdf'],\n",
       "       ['./reports/final report.pdf'],\n",
       "       ['./reports/FINAL-Project-Report-30-edited-sections.pdf'],\n",
       "       ['./reports/final12.pdf'],\n",
       "       ['./reports/FinalReport29.pdf'],\n",
       "       ['./reports/FinalReport_grpid_33.pdf'],\n",
       "       ['./reports/Final_BE_PROJECT_REPORT17.pdf'],\n",
       "       ['./reports/final_report_print.pdf'],\n",
       "       ['./reports/FULL REPORT30.pdf'],\n",
       "       ['./reports/Group 11.pdf'],\n",
       "       ['./reports/Group 28 Report.pdf'],\n",
       "       ['./reports/GroupId-10-Report .pdf'],\n",
       "       ['./reports/GROUPID32_REPORT.pdf'],\n",
       "       ['./reports/Project Report (16).pdf'],\n",
       "       ['./reports/Project Report Group 9.pdf'],\n",
       "       ['./reports/Project Report Group ID 24.pdf'],\n",
       "       ['./reports/project report(37).pdf'],\n",
       "       ['./reports/Project Report.pdf'],\n",
       "       ['./reports/Projectreport_grpid_39.pdf'],\n",
       "       ['./reports/Report GroupID-19.pdf'],\n",
       "       ['./reports/REPORT11.pdf'],\n",
       "       ['./reports/Secure my way_Project_Report[14-15] -2-.pdf']],\n",
       "      dtype='<U133')"
      ]
     },
     "execution_count": 36,
     "metadata": {},
     "output_type": "execute_result"
    }
   ],
   "source": [
    "files_list"
   ]
  },
  {
   "cell_type": "code",
   "execution_count": 37,
   "metadata": {},
   "outputs": [
    {
     "data": {
      "text/plain": [
       "(511, 2)"
      ]
     },
     "execution_count": 37,
     "metadata": {},
     "output_type": "execute_result"
    }
   ],
   "source": [
    "documents_data.shape"
   ]
  },
  {
   "cell_type": "code",
   "execution_count": 38,
   "metadata": {},
   "outputs": [],
   "source": [
    "documents_data['file'] = files_list"
   ]
  },
  {
   "cell_type": "code",
   "execution_count": 39,
   "metadata": {},
   "outputs": [
    {
     "data": {
      "text/html": [
       "<div>\n",
       "<style scoped>\n",
       "    .dataframe tbody tr th:only-of-type {\n",
       "        vertical-align: middle;\n",
       "    }\n",
       "\n",
       "    .dataframe tbody tr th {\n",
       "        vertical-align: top;\n",
       "    }\n",
       "\n",
       "    .dataframe thead th {\n",
       "        text-align: right;\n",
       "    }\n",
       "</style>\n",
       "<table border=\"1\" class=\"dataframe\">\n",
       "  <thead>\n",
       "    <tr style=\"text-align: right;\">\n",
       "      <th></th>\n",
       "      <th>project</th>\n",
       "      <th>data</th>\n",
       "      <th>file</th>\n",
       "    </tr>\n",
       "  </thead>\n",
       "  <tbody>\n",
       "    <tr>\n",
       "      <th>0</th>\n",
       "      <td>integrated spice modeling/simulation of circui...</td>\n",
       "      <td>integrated spice modeling simulation circuit s...</td>\n",
       "      <td>./reports_doc/1.pdf</td>\n",
       "    </tr>\n",
       "    <tr>\n",
       "      <th>1</th>\n",
       "      <td>secure online payment system using data hiding...</td>\n",
       "      <td>secure online payment hiding technique shruti ...</td>\n",
       "      <td>./reports_doc/102.pdf</td>\n",
       "    </tr>\n",
       "    <tr>\n",
       "      <th>2</th>\n",
       "      <td>face detection and recognisation based attenda...</td>\n",
       "      <td>face detection recognisation attendance tanmay...</td>\n",
       "      <td>./reports_doc/103.pdf</td>\n",
       "    </tr>\n",
       "    <tr>\n",
       "      <th>3</th>\n",
       "      <td>3d image scanner</td>\n",
       "      <td>3d image scanner nangare akshay arun rakshe ve...</td>\n",
       "      <td>./reports_doc/18.pdf</td>\n",
       "    </tr>\n",
       "    <tr>\n",
       "      <th>4</th>\n",
       "      <td>attendance management system using face recogn...</td>\n",
       "      <td>phase attendance face recognition sayali devad...</td>\n",
       "      <td>./reports_doc/22.pdf</td>\n",
       "    </tr>\n",
       "  </tbody>\n",
       "</table>\n",
       "</div>"
      ],
      "text/plain": [
       "                                             project  \\\n",
       "0  integrated spice modeling/simulation of circui...   \n",
       "1  secure online payment system using data hiding...   \n",
       "2  face detection and recognisation based attenda...   \n",
       "3                                   3d image scanner   \n",
       "4  attendance management system using face recogn...   \n",
       "\n",
       "                                                data                   file  \n",
       "0  integrated spice modeling simulation circuit s...    ./reports_doc/1.pdf  \n",
       "1  secure online payment hiding technique shruti ...  ./reports_doc/102.pdf  \n",
       "2  face detection recognisation attendance tanmay...  ./reports_doc/103.pdf  \n",
       "3  3d image scanner nangare akshay arun rakshe ve...   ./reports_doc/18.pdf  \n",
       "4  phase attendance face recognition sayali devad...   ./reports_doc/22.pdf  "
      ]
     },
     "execution_count": 39,
     "metadata": {},
     "output_type": "execute_result"
    }
   ],
   "source": [
    "documents_data.head()"
   ]
  },
  {
   "cell_type": "code",
   "execution_count": 40,
   "metadata": {},
   "outputs": [],
   "source": [
    "documents_data.to_csv('datasets/data.csv')"
   ]
  },
  {
   "cell_type": "markdown",
   "metadata": {},
   "source": [
    "### data.csv is used for training LDA model"
   ]
  },
  {
   "cell_type": "code",
   "execution_count": 41,
   "metadata": {},
   "outputs": [],
   "source": [
    "keywords_data = []"
   ]
  },
  {
   "cell_type": "code",
   "execution_count": 42,
   "metadata": {},
   "outputs": [
    {
     "name": "stdout",
     "output_type": "stream",
     "text": [
      "Wall time: 112 ms\n"
     ]
    }
   ],
   "source": [
    "%%time\n",
    "for key in dataset:\n",
    "    try:\n",
    "        for keyword in dataset[key][\"keywords\"]:\n",
    "            keywords_data.append([dataset[key][\"title\"], keyword, dataset[key][\"filename\"]])\n",
    "    except:\n",
    "        pass"
   ]
  },
  {
   "cell_type": "code",
   "execution_count": 43,
   "metadata": {},
   "outputs": [],
   "source": [
    "keywords_data = pd.DataFrame(np.array(keywords_data), columns=['project', 'keyword', 'file'])"
   ]
  },
  {
   "cell_type": "code",
   "execution_count": 44,
   "metadata": {},
   "outputs": [
    {
     "data": {
      "text/html": [
       "<div>\n",
       "<style scoped>\n",
       "    .dataframe tbody tr th:only-of-type {\n",
       "        vertical-align: middle;\n",
       "    }\n",
       "\n",
       "    .dataframe tbody tr th {\n",
       "        vertical-align: top;\n",
       "    }\n",
       "\n",
       "    .dataframe thead th {\n",
       "        text-align: right;\n",
       "    }\n",
       "</style>\n",
       "<table border=\"1\" class=\"dataframe\">\n",
       "  <thead>\n",
       "    <tr style=\"text-align: right;\">\n",
       "      <th></th>\n",
       "      <th>project</th>\n",
       "      <th>keyword</th>\n",
       "      <th>file</th>\n",
       "    </tr>\n",
       "  </thead>\n",
       "  <tbody>\n",
       "    <tr>\n",
       "      <th>0</th>\n",
       "      <td>integrated spice modeling/simulation of circui...</td>\n",
       "      <td>circuit element</td>\n",
       "      <td>./reports_doc/1.pdf</td>\n",
       "    </tr>\n",
       "    <tr>\n",
       "      <th>1</th>\n",
       "      <td>integrated spice modeling/simulation of circui...</td>\n",
       "      <td>circuit simulation</td>\n",
       "      <td>./reports_doc/1.pdf</td>\n",
       "    </tr>\n",
       "    <tr>\n",
       "      <th>2</th>\n",
       "      <td>integrated spice modeling/simulation of circui...</td>\n",
       "      <td>circuit spice</td>\n",
       "      <td>./reports_doc/1.pdf</td>\n",
       "    </tr>\n",
       "    <tr>\n",
       "      <th>3</th>\n",
       "      <td>integrated spice modeling/simulation of circui...</td>\n",
       "      <td>component library</td>\n",
       "      <td>./reports_doc/1.pdf</td>\n",
       "    </tr>\n",
       "    <tr>\n",
       "      <th>4</th>\n",
       "      <td>integrated spice modeling/simulation of circui...</td>\n",
       "      <td>current source</td>\n",
       "      <td>./reports_doc/1.pdf</td>\n",
       "    </tr>\n",
       "  </tbody>\n",
       "</table>\n",
       "</div>"
      ],
      "text/plain": [
       "                                             project             keyword  \\\n",
       "0  integrated spice modeling/simulation of circui...     circuit element   \n",
       "1  integrated spice modeling/simulation of circui...  circuit simulation   \n",
       "2  integrated spice modeling/simulation of circui...       circuit spice   \n",
       "3  integrated spice modeling/simulation of circui...   component library   \n",
       "4  integrated spice modeling/simulation of circui...      current source   \n",
       "\n",
       "                  file  \n",
       "0  ./reports_doc/1.pdf  \n",
       "1  ./reports_doc/1.pdf  \n",
       "2  ./reports_doc/1.pdf  \n",
       "3  ./reports_doc/1.pdf  \n",
       "4  ./reports_doc/1.pdf  "
      ]
     },
     "execution_count": 44,
     "metadata": {},
     "output_type": "execute_result"
    }
   ],
   "source": [
    "keywords_data.head()"
   ]
  },
  {
   "cell_type": "code",
   "execution_count": 45,
   "metadata": {},
   "outputs": [],
   "source": [
    "keywords_data.to_csv(\"./datasets/keywords.csv\")"
   ]
  },
  {
   "cell_type": "code",
   "execution_count": 46,
   "metadata": {},
   "outputs": [],
   "source": [
    "meta_data = []"
   ]
  },
  {
   "cell_type": "code",
   "execution_count": 47,
   "metadata": {},
   "outputs": [
    {
     "name": "stdout",
     "output_type": "stream",
     "text": [
      "Wall time: 998 µs\n"
     ]
    }
   ],
   "source": [
    "%%time\n",
    "for key in dataset:\n",
    "    meta_data.append([dataset[key]['title'], dataset[key]['libraries'], dataset[key]['frameworks'], dataset[key]['dbs'], dataset[key]['filename']])"
   ]
  },
  {
   "cell_type": "code",
   "execution_count": 48,
   "metadata": {},
   "outputs": [],
   "source": [
    "meta_data = pd.DataFrame(np.array(meta_data), columns=['project', 'library', 'framework', 'dbs', 'file'])"
   ]
  },
  {
   "cell_type": "code",
   "execution_count": 49,
   "metadata": {},
   "outputs": [
    {
     "data": {
      "text/html": [
       "<div>\n",
       "<style scoped>\n",
       "    .dataframe tbody tr th:only-of-type {\n",
       "        vertical-align: middle;\n",
       "    }\n",
       "\n",
       "    .dataframe tbody tr th {\n",
       "        vertical-align: top;\n",
       "    }\n",
       "\n",
       "    .dataframe thead th {\n",
       "        text-align: right;\n",
       "    }\n",
       "</style>\n",
       "<table border=\"1\" class=\"dataframe\">\n",
       "  <thead>\n",
       "    <tr style=\"text-align: right;\">\n",
       "      <th></th>\n",
       "      <th>project</th>\n",
       "      <th>library</th>\n",
       "      <th>framework</th>\n",
       "      <th>dbs</th>\n",
       "      <th>file</th>\n",
       "    </tr>\n",
       "  </thead>\n",
       "  <tbody>\n",
       "    <tr>\n",
       "      <th>0</th>\n",
       "      <td>integrated spice modeling/simulation of circui...</td>\n",
       "      <td>[]</td>\n",
       "      <td>[]</td>\n",
       "      <td>[]</td>\n",
       "      <td>./reports_doc/1.pdf</td>\n",
       "    </tr>\n",
       "    <tr>\n",
       "      <th>1</th>\n",
       "      <td>secure online payment system using data hiding...</td>\n",
       "      <td>[]</td>\n",
       "      <td>[]</td>\n",
       "      <td>[]</td>\n",
       "      <td>./reports_doc/102.pdf</td>\n",
       "    </tr>\n",
       "    <tr>\n",
       "      <th>2</th>\n",
       "      <td>face detection and recognisation based attenda...</td>\n",
       "      <td>[]</td>\n",
       "      <td>[]</td>\n",
       "      <td>[]</td>\n",
       "      <td>./reports_doc/103.pdf</td>\n",
       "    </tr>\n",
       "    <tr>\n",
       "      <th>3</th>\n",
       "      <td>3d image scanner</td>\n",
       "      <td>[]</td>\n",
       "      <td>[angular]</td>\n",
       "      <td>[]</td>\n",
       "      <td>./reports_doc/18.pdf</td>\n",
       "    </tr>\n",
       "    <tr>\n",
       "      <th>4</th>\n",
       "      <td>attendance management system using face recogn...</td>\n",
       "      <td>[opencv]</td>\n",
       "      <td>[]</td>\n",
       "      <td>[]</td>\n",
       "      <td>./reports_doc/22.pdf</td>\n",
       "    </tr>\n",
       "  </tbody>\n",
       "</table>\n",
       "</div>"
      ],
      "text/plain": [
       "                                             project   library  framework dbs  \\\n",
       "0  integrated spice modeling/simulation of circui...        []         []  []   \n",
       "1  secure online payment system using data hiding...        []         []  []   \n",
       "2  face detection and recognisation based attenda...        []         []  []   \n",
       "3                                   3d image scanner        []  [angular]  []   \n",
       "4  attendance management system using face recogn...  [opencv]         []  []   \n",
       "\n",
       "                    file  \n",
       "0    ./reports_doc/1.pdf  \n",
       "1  ./reports_doc/102.pdf  \n",
       "2  ./reports_doc/103.pdf  \n",
       "3   ./reports_doc/18.pdf  \n",
       "4   ./reports_doc/22.pdf  "
      ]
     },
     "execution_count": 49,
     "metadata": {},
     "output_type": "execute_result"
    }
   ],
   "source": [
    "meta_data.head()"
   ]
  },
  {
   "cell_type": "code",
   "execution_count": 50,
   "metadata": {},
   "outputs": [],
   "source": [
    "for i in ['library', 'framework', 'dbs']:\n",
    "    meta_data[i] = meta_data[i].apply(lambda x: \" \".join(x))"
   ]
  },
  {
   "cell_type": "code",
   "execution_count": 51,
   "metadata": {},
   "outputs": [
    {
     "data": {
      "text/html": [
       "<div>\n",
       "<style scoped>\n",
       "    .dataframe tbody tr th:only-of-type {\n",
       "        vertical-align: middle;\n",
       "    }\n",
       "\n",
       "    .dataframe tbody tr th {\n",
       "        vertical-align: top;\n",
       "    }\n",
       "\n",
       "    .dataframe thead th {\n",
       "        text-align: right;\n",
       "    }\n",
       "</style>\n",
       "<table border=\"1\" class=\"dataframe\">\n",
       "  <thead>\n",
       "    <tr style=\"text-align: right;\">\n",
       "      <th></th>\n",
       "      <th>project</th>\n",
       "      <th>library</th>\n",
       "      <th>framework</th>\n",
       "      <th>dbs</th>\n",
       "      <th>file</th>\n",
       "    </tr>\n",
       "  </thead>\n",
       "  <tbody>\n",
       "    <tr>\n",
       "      <th>0</th>\n",
       "      <td>integrated spice modeling/simulation of circui...</td>\n",
       "      <td></td>\n",
       "      <td></td>\n",
       "      <td></td>\n",
       "      <td>./reports_doc/1.pdf</td>\n",
       "    </tr>\n",
       "    <tr>\n",
       "      <th>1</th>\n",
       "      <td>secure online payment system using data hiding...</td>\n",
       "      <td></td>\n",
       "      <td></td>\n",
       "      <td></td>\n",
       "      <td>./reports_doc/102.pdf</td>\n",
       "    </tr>\n",
       "    <tr>\n",
       "      <th>2</th>\n",
       "      <td>face detection and recognisation based attenda...</td>\n",
       "      <td></td>\n",
       "      <td></td>\n",
       "      <td></td>\n",
       "      <td>./reports_doc/103.pdf</td>\n",
       "    </tr>\n",
       "    <tr>\n",
       "      <th>3</th>\n",
       "      <td>3d image scanner</td>\n",
       "      <td></td>\n",
       "      <td>angular</td>\n",
       "      <td></td>\n",
       "      <td>./reports_doc/18.pdf</td>\n",
       "    </tr>\n",
       "    <tr>\n",
       "      <th>4</th>\n",
       "      <td>attendance management system using face recogn...</td>\n",
       "      <td>opencv</td>\n",
       "      <td></td>\n",
       "      <td></td>\n",
       "      <td>./reports_doc/22.pdf</td>\n",
       "    </tr>\n",
       "  </tbody>\n",
       "</table>\n",
       "</div>"
      ],
      "text/plain": [
       "                                             project library framework dbs  \\\n",
       "0  integrated spice modeling/simulation of circui...                         \n",
       "1  secure online payment system using data hiding...                         \n",
       "2  face detection and recognisation based attenda...                         \n",
       "3                                   3d image scanner           angular       \n",
       "4  attendance management system using face recogn...  opencv                 \n",
       "\n",
       "                    file  \n",
       "0    ./reports_doc/1.pdf  \n",
       "1  ./reports_doc/102.pdf  \n",
       "2  ./reports_doc/103.pdf  \n",
       "3   ./reports_doc/18.pdf  \n",
       "4   ./reports_doc/22.pdf  "
      ]
     },
     "execution_count": 51,
     "metadata": {},
     "output_type": "execute_result"
    }
   ],
   "source": [
    "meta_data.head()"
   ]
  },
  {
   "cell_type": "code",
   "execution_count": 52,
   "metadata": {},
   "outputs": [],
   "source": [
    "meta_data.to_csv(\"datasets/metadata.csv\")"
   ]
  },
  {
   "cell_type": "code",
   "execution_count": null,
   "metadata": {},
   "outputs": [],
   "source": []
  }
 ],
 "metadata": {
  "kernelspec": {
   "display_name": "Python 3",
   "language": "python",
   "name": "python3"
  },
  "language_info": {
   "codemirror_mode": {
    "name": "ipython",
    "version": 3
   },
   "file_extension": ".py",
   "mimetype": "text/x-python",
   "name": "python",
   "nbconvert_exporter": "python",
   "pygments_lexer": "ipython3",
   "version": "3.7.3"
  }
 },
 "nbformat": 4,
 "nbformat_minor": 2
}
