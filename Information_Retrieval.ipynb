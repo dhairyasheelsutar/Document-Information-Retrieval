{
 "cells": [
  {
   "cell_type": "markdown",
   "metadata": {},
   "source": [
    "# Information Retrieval (Phase 5)"
   ]
  },
  {
   "cell_type": "code",
   "execution_count": 1,
   "metadata": {},
   "outputs": [],
   "source": [
    "import pandas as pd\n",
    "import numpy as np\n",
    "import joblib\n",
    "import pickle\n",
    "from gensim.models.doc2vec import Doc2Vec\n",
    "from gensim.test.utils import get_tmpfile\n",
    "from sklearn.feature_extraction.text import TfidfVectorizer\n",
    "from sklearn.metrics.pairwise import cosine_similarity\n",
    "from sklearn.decomposition import TruncatedSVD\n",
    "from multiprocessing import Pool\n",
    "from scipy import sparse\n",
    "import re\n",
    "from dask import delayed\n",
    "import dask.dataframe as dd\n",
    "import os\n",
    "import gc"
   ]
  },
  {
   "cell_type": "code",
   "execution_count": 2,
   "metadata": {},
   "outputs": [],
   "source": [
    "class Information_Retrieval_Model():\n",
    "    \n",
    "    def __init__(self):\n",
    "        self.dv = Doc2Vec.load(\"./model/doc2vec_model\")\n",
    "        self.tf = joblib.load(\"./model/tfidf_model.pkl\")\n",
    "        self.svd = joblib.load(\"./model/svd_model.pkl\")\n",
    "        self.svd_feature_matrix = joblib.load(\"./model/lsa_embeddings.pkl\")\n",
    "        self.svd_feature_matrix.reset_index(inplace=True)\n",
    "        self.doctovec_feature_matrix = joblib.load(\"./model/doc2vec_embeddings.pkl\")\n",
    "        self.doctovec_feature_matrix.reset_index(inplace=True)\n",
    "        self.df = df = joblib.load(\"./model/dataset.pkl\")\n",
    "    \n",
    "    def get_message_tfidf_embedding_vector(self, message):\n",
    "        message_array = self.tf.transform([message]).toarray()\n",
    "        message_array = self.svd.transform(message_array)\n",
    "        message_array = message_array.reshape(1, -1)\n",
    "        return message_array\n",
    "    \n",
    "    def get_message_doctovec_embedding_vector(self, message):\n",
    "        message_array = self.dv.infer_vector(doc_words=message.split(\" \"), epochs=100)\n",
    "        message_array = message_array.reshape(1, -1)\n",
    "        return message_array\n",
    "    \n",
    "    @staticmethod\n",
    "    def get_similarity_scores(message_array, embeddings):\n",
    "\n",
    "        embeddings = embeddings.drop(labels=\"files\", axis=1)\n",
    "        cosine_sim_matrix = cosine_similarity(X=message_array,\n",
    "                                                           Y=embeddings,\n",
    "                                                           dense_output=True)\n",
    "        cosine_sim_matrix = pd.DataFrame(cosine_sim_matrix.reshape(-1, 1))\n",
    "        cosine_sim_matrix.set_index(embeddings.index, inplace=True)\n",
    "        cosine_sim_matrix.columns = [\"cosine_similarity\"]\n",
    "        return cosine_sim_matrix\n",
    "\n",
    "    def get_ensemble_similarity_scores(self, message):\n",
    "        bow_message_array = self.get_message_tfidf_embedding_vector(message)\n",
    "        semantic_message_array = self.get_message_doctovec_embedding_vector(message)\n",
    "\n",
    "        bow_similarity = self.get_similarity_scores(bow_message_array, self.svd_feature_matrix)\n",
    "        semantic_similarity = self.get_similarity_scores(semantic_message_array, self.doctovec_feature_matrix)\n",
    "\n",
    "        ensemble_similarity = pd.merge(semantic_similarity, bow_similarity, left_index=True, right_index=True)\n",
    "        ensemble_similarity.columns = [\"semantic_similarity\", \"bow_similarity\"]\n",
    "        ensemble_similarity.index = self.df[\"files\"]\n",
    "        ensemble_similarity = ensemble_similarity.reset_index()\n",
    "        return ensemble_similarity\n",
    "    \n",
    "    def query_similar_documents(self, message, n=10):\n",
    "        similar_files = self.get_ensemble_similarity_scores(message)\n",
    "        similar_files = similar_files[similar_files[\"bow_similarity\"] > 0].reset_index()\n",
    "\n",
    "        similar_files[\"doc2vec_similarity\"] = similar_files[\"semantic_similarity\"]*self.df[\"weights\"]\n",
    "        similar_files[\"svd_similarity\"] = similar_files[\"bow_similarity\"]*self.df[\"weights\"]\n",
    "\n",
    "        similar_files = similar_files.groupby(\"files\").agg({\"doc2vec_similarity\": lambda x: sum(x), \"svd_similarity\": lambda x: sum(x)})\n",
    "        similar_files[\"total\"] = similar_files[\"doc2vec_similarity\"] + similar_files[\"svd_similarity\"]\n",
    "        similar_files = similar_files.reset_index()\n",
    "        return similar_files"
   ]
  },
  {
   "cell_type": "code",
   "execution_count": 3,
   "metadata": {},
   "outputs": [],
   "source": [
    "ir = Information_Retrieval_Model()"
   ]
  },
  {
   "cell_type": "code",
   "execution_count": null,
   "metadata": {
    "scrolled": true
   },
   "outputs": [],
   "source": []
  },
  {
   "cell_type": "code",
   "execution_count": null,
   "metadata": {},
   "outputs": [],
   "source": []
  },
  {
   "cell_type": "code",
   "execution_count": null,
   "metadata": {},
   "outputs": [],
   "source": []
  }
 ],
 "metadata": {
  "kernelspec": {
   "display_name": "Python 3",
   "language": "python",
   "name": "python3"
  },
  "language_info": {
   "codemirror_mode": {
    "name": "ipython",
    "version": 3
   },
   "file_extension": ".py",
   "mimetype": "text/x-python",
   "name": "python",
   "nbconvert_exporter": "python",
   "pygments_lexer": "ipython3",
   "version": "3.7.3"
  }
 },
 "nbformat": 4,
 "nbformat_minor": 2
}
