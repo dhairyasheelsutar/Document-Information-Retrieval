{
 "cells": [
  {
   "cell_type": "code",
   "execution_count": 1,
   "metadata": {},
   "outputs": [],
   "source": [
    "post = open(\"./languages_blog.txt\", encoding=\"utf8\").read().split('\\n')"
   ]
  },
  {
   "cell_type": "code",
   "execution_count": 2,
   "metadata": {},
   "outputs": [],
   "source": [
    "languages = [language for language in post if len(language.split(' ')) == 1]"
   ]
  },
  {
   "cell_type": "code",
   "execution_count": 3,
   "metadata": {},
   "outputs": [],
   "source": [
    "frameworks = [\"ASP.NET Core\", \"CakePHP\", \"Catalyst\", \"CodeIgniter\",\"CppCMS\",\"Django\", \"flask\", \"Express.js\", \"Gridfyx PHP\", \"Laravel\", \"Mojolicious\", \"Ruby on Rails\", \"Sails.js\", \"Spring MVC\", \"Wt (web toolkit)\", \"Zend Framework\", \"Backbone.js\", \"AngularJS\", \"Angular\", \"EmberJS\", \"ReactJS\", \"Vue.js\", \"react\", \"react native\", \"ionic\"]"
   ]
  },
  {
   "cell_type": "code",
   "execution_count": 4,
   "metadata": {},
   "outputs": [],
   "source": [
    "languages.append(\"Python\")"
   ]
  },
  {
   "cell_type": "code",
   "execution_count": 5,
   "metadata": {},
   "outputs": [],
   "source": [
    "languages.append(\"Kotlin\")"
   ]
  },
  {
   "cell_type": "code",
   "execution_count": 6,
   "metadata": {},
   "outputs": [],
   "source": [
    "languages.append(\"NodeJS\")"
   ]
  },
  {
   "cell_type": "code",
   "execution_count": 7,
   "metadata": {},
   "outputs": [],
   "source": [
    "dbs = [\"Microsoft SQL\", \"Oracle Database\", \"IBM Db2\", \"Amazon Aurora\", \"PostgreSQL\", \"Amazon Relational Database Service (RDS)\", \"SAP HANA\", \"IBM Informix\", \"MariaDB\", \"SAP SQL Anywhere\", \"Teradata Database\", \"Azure SQL Database\", \"Lovefield\", \"MemSQL\", \"Google Cloud SQL\", \"Apache Derby\", \"SAP IQ\", \"Google Cloud Spanner\", \"SQL Buddy\", \"TeamSQL\", \"LibreOffice Base\", \"Metabase\", \"MySQL\", \"SQLite\", \"HyperSQL\", \"Firebird\", \"TeamDesk\", \"InterSystems Cache\", \"ApexSQL\", \"Oracle TimesTen\", \"MongoDB\", \"HBase\", \"Cassandra\", \"Neo4j\", \"Redis\", \"Couch DB\", \"RavenDB\", \"MemcacheDB\", \"Riak\", \"Perst\", \"HyperGraphDB\", \"Voldemort\", \n",
    "\"Terrastore\", \"NeoDatis\", \"MyOODB\", \"OrientDB\", \"InfoGrid\", \"Db4objects\"]"
   ]
  },
  {
   "cell_type": "code",
   "execution_count": 8,
   "metadata": {},
   "outputs": [],
   "source": [
    "bigdata = \"HDFS, YARN, MapReduce, Spark, PIG, HIVE, HBase, Mahout, Spark MLlib, Apache Drill, Zookeeper, Oozie, Kafka, Flume, Sqoop, Solr, Lucene, Ambari\""
   ]
  },
  {
   "cell_type": "code",
   "execution_count": 9,
   "metadata": {},
   "outputs": [],
   "source": [
    "bigdata = bigdata.split(\", \")"
   ]
  },
  {
   "cell_type": "code",
   "execution_count": 10,
   "metadata": {},
   "outputs": [],
   "source": [
    "languages.append(\"Javascript\")"
   ]
  },
  {
   "cell_type": "code",
   "execution_count": 11,
   "metadata": {},
   "outputs": [],
   "source": [
    "languages = languages + [\"HTML5\", \"CSS3\", \"CSS\"]"
   ]
  },
  {
   "cell_type": "code",
   "execution_count": 12,
   "metadata": {},
   "outputs": [
    {
     "data": {
      "text/plain": [
       "['APL',\n",
       " 'AutoIt',\n",
       " 'BASIC',\n",
       " 'Eiffel',\n",
       " 'Forth',\n",
       " 'Frink',\n",
       " 'ICI',\n",
       " 'J',\n",
       " 'Lisp',\n",
       " 'Lua',\n",
       " 'M',\n",
       " 'Pascal',\n",
       " 'PCASTL',\n",
       " 'Perl',\n",
       " 'PostScript',\n",
       " 'Python',\n",
       " 'REXX',\n",
       " 'Ruby',\n",
       " 'S-Lang',\n",
       " 'Spin',\n",
       " '',\n",
       " 'Charity',\n",
       " 'Clean',\n",
       " 'Curry',\n",
       " 'Erlang',\n",
       " 'F#',\n",
       " 'Haskell',\n",
       " 'Joy',\n",
       " 'Kite',\n",
       " 'ML',\n",
       " 'Nemerle',\n",
       " 'OPAL',\n",
       " 'OPS5',\n",
       " 'Q',\n",
       " 'Ada',\n",
       " 'ALGOL',\n",
       " 'C',\n",
       " 'C++',\n",
       " 'C#',\n",
       " 'CLEO',\n",
       " 'COBOL',\n",
       " 'Cobra',\n",
       " 'D',\n",
       " 'DASL',\n",
       " 'DIBOL',\n",
       " 'Fortran',\n",
       " 'Java',\n",
       " 'JOVIAL',\n",
       " 'Objective-C',\n",
       " 'SMALL',\n",
       " 'Smalltalk',\n",
       " 'Turing',\n",
       " 'XL',\n",
       " 'Bliss',\n",
       " 'ChucK',\n",
       " 'CLIST',\n",
       " 'HyperTalk',\n",
       " 'Modula-2',\n",
       " 'Oberon',\n",
       " 'MATLAB',\n",
       " 'Occam',\n",
       " 'PL/C',\n",
       " 'PL/I',\n",
       " 'Rapira',\n",
       " 'RPG',\n",
       " 'AppleScript',\n",
       " 'Awk',\n",
       " 'BeanShell',\n",
       " 'ColdFusion',\n",
       " 'F-Script',\n",
       " 'JASS',\n",
       " 'Mondrian',\n",
       " 'PHP',\n",
       " 'Revolution',\n",
       " 'Tcl',\n",
       " 'VBScript',\n",
       " 'Curl',\n",
       " 'SGML',\n",
       " 'HTML',\n",
       " 'XML',\n",
       " 'XHTML',\n",
       " 'ALF',\n",
       " 'Fril',\n",
       " 'Janus',\n",
       " 'Leda',\n",
       " 'Oz',\n",
       " 'Poplog',\n",
       " 'Prolog',\n",
       " 'ROOP',\n",
       " 'ABCL',\n",
       " 'Afnix',\n",
       " 'Cilk',\n",
       " 'E',\n",
       " 'Joule',\n",
       " 'Limbo',\n",
       " 'Pict',\n",
       " 'SALSA',\n",
       " 'SR',\n",
       " 'Agora',\n",
       " 'BETA',\n",
       " 'Cecil',\n",
       " 'Lava',\n",
       " 'Lisaac',\n",
       " 'MOO',\n",
       " 'Moto',\n",
       " 'Object-Z',\n",
       " 'Obliq',\n",
       " 'Oxygene',\n",
       " 'Pliant',\n",
       " 'Prograph',\n",
       " 'REBOL',\n",
       " 'Scala',\n",
       " 'Self',\n",
       " 'Slate',\n",
       " 'XOTcl',\n",
       " 'IO',\n",
       " 'Python',\n",
       " 'Kotlin',\n",
       " 'NodeJS',\n",
       " 'Javascript',\n",
       " 'HTML5',\n",
       " 'CSS3',\n",
       " 'CSS']"
      ]
     },
     "execution_count": 12,
     "metadata": {},
     "output_type": "execute_result"
    }
   ],
   "source": [
    "languages"
   ]
  },
  {
   "cell_type": "code",
   "execution_count": 13,
   "metadata": {},
   "outputs": [],
   "source": [
    "from nltk.tokenize import word_tokenize\n",
    "import string\n",
    "from nltk.stem import WordNetLemmatizer"
   ]
  },
  {
   "cell_type": "code",
   "execution_count": 14,
   "metadata": {},
   "outputs": [],
   "source": [
    "lemmatizer = WordNetLemmatizer()"
   ]
  },
  {
   "cell_type": "code",
   "execution_count": 15,
   "metadata": {},
   "outputs": [],
   "source": [
    "def clean(text):\n",
    "    text = text.replace(\",\", \" \").replace(\":\", \" \")\n",
    "    text = str(text).lower()\n",
    "    printable = set(string.printable)\n",
    "    text = \"\".join(list(filter(lambda x: x in printable, text)))\n",
    "    tokens = word_tokenize(text)\n",
    "    tokens = [word for word in tokens if word not in string.punctuation]\n",
    "    tokens = [lemmatizer.lemmatize(word) for word in tokens]\n",
    "    return \" \".join(tokens)"
   ]
  },
  {
   "cell_type": "code",
   "execution_count": 16,
   "metadata": {},
   "outputs": [],
   "source": [
    "new_languages = []\n",
    "for language in languages:\n",
    "    new_languages.append(clean(language))"
   ]
  },
  {
   "cell_type": "code",
   "execution_count": 17,
   "metadata": {},
   "outputs": [],
   "source": [
    "new_languages = [language for language in new_languages if len(language) > 1]"
   ]
  },
  {
   "cell_type": "code",
   "execution_count": 18,
   "metadata": {},
   "outputs": [],
   "source": [
    "new_dbs = []\n",
    "for db in dbs:\n",
    "    new_dbs.append(clean(db))"
   ]
  },
  {
   "cell_type": "code",
   "execution_count": 19,
   "metadata": {},
   "outputs": [],
   "source": [
    "new_bigdata = []"
   ]
  },
  {
   "cell_type": "code",
   "execution_count": 20,
   "metadata": {},
   "outputs": [],
   "source": [
    "for data in bigdata:\n",
    "    new_bigdata.append(clean(data))"
   ]
  },
  {
   "cell_type": "code",
   "execution_count": 21,
   "metadata": {},
   "outputs": [
    {
     "data": {
      "text/plain": [
       "['hdfs',\n",
       " 'yarn',\n",
       " 'mapreduce',\n",
       " 'spark',\n",
       " 'pig',\n",
       " 'hive',\n",
       " 'hbase',\n",
       " 'mahout',\n",
       " 'spark mllib',\n",
       " 'apache drill',\n",
       " 'zookeeper',\n",
       " 'oozie',\n",
       " 'kafka',\n",
       " 'flume',\n",
       " 'sqoop',\n",
       " 'solr',\n",
       " 'lucene',\n",
       " 'ambari']"
      ]
     },
     "execution_count": 21,
     "metadata": {},
     "output_type": "execute_result"
    }
   ],
   "source": [
    "new_bigdata"
   ]
  },
  {
   "cell_type": "code",
   "execution_count": 22,
   "metadata": {},
   "outputs": [],
   "source": [
    "new_frameworks = []\n",
    "for framework in frameworks:\n",
    "    new_frameworks.append(clean(framework))"
   ]
  },
  {
   "cell_type": "code",
   "execution_count": 23,
   "metadata": {},
   "outputs": [
    {
     "data": {
      "text/plain": [
       "['asp.net core',\n",
       " 'cakephp',\n",
       " 'catalyst',\n",
       " 'codeigniter',\n",
       " 'cppcms',\n",
       " 'django',\n",
       " 'flask',\n",
       " 'express.js',\n",
       " 'gridfyx php',\n",
       " 'laravel',\n",
       " 'mojolicious',\n",
       " 'ruby on rail',\n",
       " 'sails.js',\n",
       " 'spring mvc',\n",
       " 'wt web toolkit',\n",
       " 'zend framework',\n",
       " 'backbone.js',\n",
       " 'angularjs',\n",
       " 'angular',\n",
       " 'emberjs',\n",
       " 'reactjs',\n",
       " 'vue.js',\n",
       " 'react',\n",
       " 'react native',\n",
       " 'ionic']"
      ]
     },
     "execution_count": 23,
     "metadata": {},
     "output_type": "execute_result"
    }
   ],
   "source": [
    "new_frameworks"
   ]
  },
  {
   "cell_type": "code",
   "execution_count": 24,
   "metadata": {},
   "outputs": [],
   "source": [
    "dependencies = [\"numpy\", \"scipy\", \"scikit-learn\", \"tensorflow\", \"opencv\", \"pandas\", \"nltk\", \"keras\", \"pytorch\", \"spacy\", \"fasttext\", \"libra\", \"beautifulsoup4\", \"dask\", \"dask-glm\", \"html5lib\", \"h5py\", \"jupyter notebook\", \"spyder\", \"anaconda\", \"pyspark\", \"tensorflow-gpu\", \"tensorflow-base\", \"tornado\"]"
   ]
  },
  {
   "cell_type": "code",
   "execution_count": 25,
   "metadata": {},
   "outputs": [],
   "source": [
    "libraries = []\n",
    "\n",
    "for library in dependencies:\n",
    "    libraries.append(clean(library))"
   ]
  },
  {
   "cell_type": "code",
   "execution_count": 26,
   "metadata": {},
   "outputs": [],
   "source": [
    "import json"
   ]
  },
  {
   "cell_type": "code",
   "execution_count": 27,
   "metadata": {},
   "outputs": [],
   "source": [
    "knowledge_base = {\n",
    "    \"languages\": new_languages,\n",
    "    \"frameworks\": new_frameworks,\n",
    "    \"bigdata\": new_bigdata,\n",
    "    \"dbs\": new_dbs,\n",
    "    \"libraries\": libraries\n",
    "}"
   ]
  },
  {
   "cell_type": "code",
   "execution_count": 28,
   "metadata": {},
   "outputs": [],
   "source": [
    "json.dump(knowledge_base, open(\"./knowledge_base.json\", \"w\"))"
   ]
  },
  {
   "cell_type": "code",
   "execution_count": null,
   "metadata": {},
   "outputs": [],
   "source": []
  },
  {
   "cell_type": "code",
   "execution_count": null,
   "metadata": {},
   "outputs": [],
   "source": []
  }
 ],
 "metadata": {
  "kernelspec": {
   "display_name": "Python 3",
   "language": "python",
   "name": "python3"
  },
  "language_info": {
   "codemirror_mode": {
    "name": "ipython",
    "version": 3
   },
   "file_extension": ".py",
   "mimetype": "text/x-python",
   "name": "python",
   "nbconvert_exporter": "python",
   "pygments_lexer": "ipython3",
   "version": "3.7.3"
  }
 },
 "nbformat": 4,
 "nbformat_minor": 2
}
